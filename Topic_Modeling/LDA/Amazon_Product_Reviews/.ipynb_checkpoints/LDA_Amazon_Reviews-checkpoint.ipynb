{
 "cells": [
  {
   "cell_type": "markdown",
   "metadata": {},
   "source": [
    "# 1. Imports"
   ]
  },
  {
   "cell_type": "code",
   "execution_count": 1,
   "metadata": {},
   "outputs": [],
   "source": [
    "# Required Imports\n",
    "import re\n",
    "import numpy as np\n",
    "import pandas as pd\n",
    "from pprint import pprint\n",
    "import multiprocessing\n",
    "import nltk"
   ]
  },
  {
   "cell_type": "code",
   "execution_count": 2,
   "metadata": {},
   "outputs": [
    {
     "name": "stderr",
     "output_type": "stream",
     "text": [
      "C:\\Users\\dkushwaha\\AppData\\Local\\Continuum\\anaconda3\\lib\\site-packages\\gensim\\utils.py:1197: UserWarning: detected Windows; aliasing chunkize to chunkize_serial\n",
      "  warnings.warn(\"detected Windows; aliasing chunkize to chunkize_serial\")\n"
     ]
    }
   ],
   "source": [
    "# Gensim for text preprocessing and LDA\n",
    "import gensim\n",
    "import gensim.corpora as corpora\n",
    "from gensim.utils import simple_preprocess\n",
    "from gensim.models import CoherenceModel"
   ]
  },
  {
   "cell_type": "code",
   "execution_count": 3,
   "metadata": {},
   "outputs": [],
   "source": [
    "# spacy for lemmatization ans Stemming\n",
    "import spacy"
   ]
  },
  {
   "cell_type": "code",
   "execution_count": 4,
   "metadata": {},
   "outputs": [],
   "source": [
    "# Plotting tools\n",
    "import pyLDAvis\n",
    "import pyLDAvis.gensim  # don't skip this\n",
    "import matplotlib.pyplot as plt\n",
    "%matplotlib inline"
   ]
  },
  {
   "cell_type": "code",
   "execution_count": 5,
   "metadata": {},
   "outputs": [],
   "source": [
    "# Suppress all the warnings\n",
    "import warnings\n",
    "warnings.filterwarnings(\"ignore\")"
   ]
  },
  {
   "cell_type": "code",
   "execution_count": 6,
   "metadata": {},
   "outputs": [],
   "source": [
    "# Latent Dirichlet Allocation (LDA), using all CPU cores to parallelize and speed up model training\n",
    "cores = multiprocessing.cpu_count()"
   ]
  },
  {
   "cell_type": "markdown",
   "metadata": {},
   "source": [
    "# 2. Load Data"
   ]
  },
  {
   "cell_type": "code",
   "execution_count": 7,
   "metadata": {},
   "outputs": [],
   "source": [
    "# Read the data set from training file => train.csv\n",
    "df = pd.read_csv('train.csv', encoding='latin1')"
   ]
  },
  {
   "cell_type": "code",
   "execution_count": 8,
   "metadata": {},
   "outputs": [
    {
     "data": {
      "text/html": [
       "<div>\n",
       "<style scoped>\n",
       "    .dataframe tbody tr th:only-of-type {\n",
       "        vertical-align: middle;\n",
       "    }\n",
       "\n",
       "    .dataframe tbody tr th {\n",
       "        vertical-align: top;\n",
       "    }\n",
       "\n",
       "    .dataframe thead th {\n",
       "        text-align: right;\n",
       "    }\n",
       "</style>\n",
       "<table border=\"1\" class=\"dataframe\">\n",
       "  <thead>\n",
       "    <tr style=\"text-align: right;\">\n",
       "      <th></th>\n",
       "      <th>id</th>\n",
       "      <th>name</th>\n",
       "      <th>asins</th>\n",
       "      <th>brand</th>\n",
       "      <th>categories</th>\n",
       "      <th>keys</th>\n",
       "      <th>manufacturer</th>\n",
       "      <th>reviews.date</th>\n",
       "      <th>reviews.dateAdded</th>\n",
       "      <th>reviews.dateSeen</th>\n",
       "      <th>...</th>\n",
       "      <th>reviews.doRecommend</th>\n",
       "      <th>reviews.id</th>\n",
       "      <th>reviews.numHelpful</th>\n",
       "      <th>reviews.rating</th>\n",
       "      <th>reviews.sourceURLs</th>\n",
       "      <th>reviews.text</th>\n",
       "      <th>reviews.title</th>\n",
       "      <th>reviews.userCity</th>\n",
       "      <th>reviews.userProvince</th>\n",
       "      <th>reviews.username</th>\n",
       "    </tr>\n",
       "  </thead>\n",
       "  <tbody>\n",
       "    <tr>\n",
       "      <th>0</th>\n",
       "      <td>AVqkIhwDv8e3D1O-lebb</td>\n",
       "      <td>All-New Fire HD 8 Tablet, 8 HD Display, Wi-Fi,...</td>\n",
       "      <td>B01AHB9CN2</td>\n",
       "      <td>Amazon</td>\n",
       "      <td>Electronics,iPad &amp; Tablets,All Tablets,Fire Ta...</td>\n",
       "      <td>841667104676,amazon/53004484,amazon/b01ahb9cn2...</td>\n",
       "      <td>Amazon</td>\n",
       "      <td>2017-01-13T00:00:00.000Z</td>\n",
       "      <td>2017-07-03T23:33:15Z</td>\n",
       "      <td>2017-06-07T09:04:00.000Z,2017-04-30T00:45:00.000Z</td>\n",
       "      <td>...</td>\n",
       "      <td>True</td>\n",
       "      <td>NaN</td>\n",
       "      <td>0.0</td>\n",
       "      <td>5.0</td>\n",
       "      <td>http://reviews.bestbuy.com/3545/5620406/review...</td>\n",
       "      <td>This product so far has not disappointed. My c...</td>\n",
       "      <td>Kindle</td>\n",
       "      <td>NaN</td>\n",
       "      <td>NaN</td>\n",
       "      <td>Adapter</td>\n",
       "    </tr>\n",
       "    <tr>\n",
       "      <th>1</th>\n",
       "      <td>AVqkIhwDv8e3D1O-lebb</td>\n",
       "      <td>All-New Fire HD 8 Tablet, 8 HD Display, Wi-Fi,...</td>\n",
       "      <td>B01AHB9CN2</td>\n",
       "      <td>Amazon</td>\n",
       "      <td>Electronics,iPad &amp; Tablets,All Tablets,Fire Ta...</td>\n",
       "      <td>841667104676,amazon/53004484,amazon/b01ahb9cn2...</td>\n",
       "      <td>Amazon</td>\n",
       "      <td>2017-01-13T00:00:00.000Z</td>\n",
       "      <td>2017-07-03T23:33:15Z</td>\n",
       "      <td>2017-06-07T09:04:00.000Z,2017-04-30T00:45:00.000Z</td>\n",
       "      <td>...</td>\n",
       "      <td>True</td>\n",
       "      <td>NaN</td>\n",
       "      <td>0.0</td>\n",
       "      <td>5.0</td>\n",
       "      <td>http://reviews.bestbuy.com/3545/5620406/review...</td>\n",
       "      <td>great for beginner or experienced person. Boug...</td>\n",
       "      <td>very fast</td>\n",
       "      <td>NaN</td>\n",
       "      <td>NaN</td>\n",
       "      <td>truman</td>\n",
       "    </tr>\n",
       "  </tbody>\n",
       "</table>\n",
       "<p>2 rows × 21 columns</p>\n",
       "</div>"
      ],
      "text/plain": [
       "                     id                                               name  \\\n",
       "0  AVqkIhwDv8e3D1O-lebb  All-New Fire HD 8 Tablet, 8 HD Display, Wi-Fi,...   \n",
       "1  AVqkIhwDv8e3D1O-lebb  All-New Fire HD 8 Tablet, 8 HD Display, Wi-Fi,...   \n",
       "\n",
       "        asins   brand                                         categories  \\\n",
       "0  B01AHB9CN2  Amazon  Electronics,iPad & Tablets,All Tablets,Fire Ta...   \n",
       "1  B01AHB9CN2  Amazon  Electronics,iPad & Tablets,All Tablets,Fire Ta...   \n",
       "\n",
       "                                                keys manufacturer  \\\n",
       "0  841667104676,amazon/53004484,amazon/b01ahb9cn2...       Amazon   \n",
       "1  841667104676,amazon/53004484,amazon/b01ahb9cn2...       Amazon   \n",
       "\n",
       "               reviews.date     reviews.dateAdded  \\\n",
       "0  2017-01-13T00:00:00.000Z  2017-07-03T23:33:15Z   \n",
       "1  2017-01-13T00:00:00.000Z  2017-07-03T23:33:15Z   \n",
       "\n",
       "                                    reviews.dateSeen  ... reviews.doRecommend  \\\n",
       "0  2017-06-07T09:04:00.000Z,2017-04-30T00:45:00.000Z  ...                True   \n",
       "1  2017-06-07T09:04:00.000Z,2017-04-30T00:45:00.000Z  ...                True   \n",
       "\n",
       "  reviews.id  reviews.numHelpful  reviews.rating  \\\n",
       "0        NaN                 0.0             5.0   \n",
       "1        NaN                 0.0             5.0   \n",
       "\n",
       "                                  reviews.sourceURLs  \\\n",
       "0  http://reviews.bestbuy.com/3545/5620406/review...   \n",
       "1  http://reviews.bestbuy.com/3545/5620406/review...   \n",
       "\n",
       "                                        reviews.text reviews.title  \\\n",
       "0  This product so far has not disappointed. My c...        Kindle   \n",
       "1  great for beginner or experienced person. Boug...     very fast   \n",
       "\n",
       "  reviews.userCity  reviews.userProvince  reviews.username  \n",
       "0              NaN                   NaN           Adapter  \n",
       "1              NaN                   NaN            truman  \n",
       "\n",
       "[2 rows x 21 columns]"
      ]
     },
     "execution_count": 8,
     "metadata": {},
     "output_type": "execute_result"
    }
   ],
   "source": [
    "# Check the loaded data \n",
    "df.head(2)"
   ]
  },
  {
   "cell_type": "code",
   "execution_count": 9,
   "metadata": {},
   "outputs": [],
   "source": [
    "# For LDA, we are only concerned with the text reviews\n",
    "# therefore we will be selecting 'reviews.text' column as training data\n",
    "# Converting data to a list for further text preprocessing\n",
    "data = df['reviews.text'].tolist()"
   ]
  },
  {
   "cell_type": "code",
   "execution_count": 10,
   "metadata": {},
   "outputs": [
    {
     "data": {
      "text/plain": [
       "34660"
      ]
     },
     "execution_count": 10,
     "metadata": {},
     "output_type": "execute_result"
    }
   ],
   "source": [
    "# Print the number of rows/ elements in list\n",
    "len(data)"
   ]
  },
  {
   "cell_type": "markdown",
   "metadata": {},
   "source": [
    "# 3. Preprocess Data"
   ]
  },
  {
   "cell_type": "code",
   "execution_count": 11,
   "metadata": {},
   "outputs": [],
   "source": [
    "# Remove new line characters\n",
    "data = [re.sub('\\s+', ' ', str(sent)) for sent in data]"
   ]
  },
  {
   "cell_type": "code",
   "execution_count": 12,
   "metadata": {},
   "outputs": [
    {
     "data": {
      "text/plain": [
       "['This product so far has not disappointed. My children love to use it and I like the ability to monitor control what content they see with ease.']"
      ]
     },
     "execution_count": 12,
     "metadata": {},
     "output_type": "execute_result"
    }
   ],
   "source": [
    "# print the first element of the list\n",
    "data[:1]"
   ]
  },
  {
   "cell_type": "code",
   "execution_count": 13,
   "metadata": {},
   "outputs": [],
   "source": [
    "# Remove distracting single quotes\n",
    "data = [re.sub(\"\\'\", \"\", sent) for sent in data]"
   ]
  },
  {
   "cell_type": "code",
   "execution_count": 14,
   "metadata": {},
   "outputs": [
    {
     "data": {
      "text/plain": [
       "['This product so far has not disappointed. My children love to use it and I like the ability to monitor control what content they see with ease.']"
      ]
     },
     "execution_count": 14,
     "metadata": {},
     "output_type": "execute_result"
    }
   ],
   "source": [
    "# print the first element of the list\n",
    "data[:1]"
   ]
  },
  {
   "cell_type": "code",
   "execution_count": 15,
   "metadata": {},
   "outputs": [],
   "source": [
    "# Initialize spacy 'en' model, keeping only tagger component (for efficiency)\n",
    "nlp = spacy.load('en_core_web_sm', disable=['parser', 'ner'])"
   ]
  },
  {
   "cell_type": "code",
   "execution_count": 16,
   "metadata": {},
   "outputs": [],
   "source": [
    "# NLTK and Spacy Stop words\n",
    "# The set of NLTK stopwords is limied.\n",
    "# So we are adding the stopwords available in Spacy library with NLTK library to make a comprehensive set of stop words\n",
    "from nltk.corpus import stopwords\n",
    "stop_words = stopwords.words('english')\n",
    "spacy_stopwords = spacy.lang.en.stop_words.STOP_WORDS\n",
    "stop_words = list(set(stop_words + list(spacy_stopwords)))"
   ]
  },
  {
   "cell_type": "code",
   "execution_count": 17,
   "metadata": {},
   "outputs": [
    {
     "data": {
      "text/plain": [
       "361"
      ]
     },
     "execution_count": 17,
     "metadata": {},
     "output_type": "execute_result"
    }
   ],
   "source": [
    "# Check the total number of stop words in stop_words list\n",
    "len(stop_words)"
   ]
  },
  {
   "cell_type": "code",
   "execution_count": 18,
   "metadata": {},
   "outputs": [],
   "source": [
    "# function to convert each para into tokens after preprocessing\n",
    "def sent_to_words(sentences):\n",
    "    for sentence in sentences:\n",
    "        yield(gensim.utils.simple_preprocess(str(sentence), deacc=True))  # deacc=True removes punctuations"
   ]
  },
  {
   "cell_type": "code",
   "execution_count": 19,
   "metadata": {},
   "outputs": [],
   "source": [
    "# clean and tokenize the data set\n",
    "data_words = list(sent_to_words(data))"
   ]
  },
  {
   "cell_type": "code",
   "execution_count": 20,
   "metadata": {},
   "outputs": [
    {
     "data": {
      "text/plain": [
       "[['this',\n",
       "  'product',\n",
       "  'so',\n",
       "  'far',\n",
       "  'has',\n",
       "  'not',\n",
       "  'disappointed',\n",
       "  'my',\n",
       "  'children',\n",
       "  'love',\n",
       "  'to',\n",
       "  'use',\n",
       "  'it',\n",
       "  'and',\n",
       "  'like',\n",
       "  'the',\n",
       "  'ability',\n",
       "  'to',\n",
       "  'monitor',\n",
       "  'control',\n",
       "  'what',\n",
       "  'content',\n",
       "  'they',\n",
       "  'see',\n",
       "  'with',\n",
       "  'ease']]"
      ]
     },
     "execution_count": 20,
     "metadata": {},
     "output_type": "execute_result"
    }
   ],
   "source": [
    "# Check the first element of preprocessed and tokenized list\n",
    "data_words[:1]"
   ]
  },
  {
   "cell_type": "code",
   "execution_count": 21,
   "metadata": {},
   "outputs": [],
   "source": [
    "# Function to remove stopwords\n",
    "def remove_stopwords(texts):\n",
    "    return [[word for word in simple_preprocess(str(doc)) if word not in stop_words] for doc in texts]"
   ]
  },
  {
   "cell_type": "code",
   "execution_count": 22,
   "metadata": {},
   "outputs": [],
   "source": [
    "# Removing the reviews which has less than 10 words in the review.\n",
    "# Output is the reduced list\n",
    "data_reduced = [[x for x in data_words_1] for data_words_1 in data_words if len(data_words_1) > 10]"
   ]
  },
  {
   "cell_type": "code",
   "execution_count": 23,
   "metadata": {},
   "outputs": [
    {
     "data": {
      "text/plain": [
       "30273"
      ]
     },
     "execution_count": 23,
     "metadata": {},
     "output_type": "execute_result"
    }
   ],
   "source": [
    "# Print the number of rows/ elements in reduced dataset/list\n",
    "len(data_reduced)"
   ]
  },
  {
   "cell_type": "code",
   "execution_count": 24,
   "metadata": {},
   "outputs": [],
   "source": [
    "# Create a list of sentences using tokenised words to be used in Final Results\n",
    "data_reduced_sent = [\" \".join(y) for y in data_reduced]"
   ]
  },
  {
   "cell_type": "code",
   "execution_count": 25,
   "metadata": {},
   "outputs": [],
   "source": [
    "# Remove Stop Words\n",
    "data_words_nostops = remove_stopwords(data_reduced)"
   ]
  },
  {
   "cell_type": "code",
   "execution_count": 26,
   "metadata": {},
   "outputs": [
    {
     "data": {
      "text/plain": [
       "[['product',\n",
       "  'far',\n",
       "  'disappointed',\n",
       "  'children',\n",
       "  'love',\n",
       "  'use',\n",
       "  'like',\n",
       "  'ability',\n",
       "  'monitor',\n",
       "  'control',\n",
       "  'content',\n",
       "  'ease']]"
      ]
     },
     "execution_count": 26,
     "metadata": {},
     "output_type": "execute_result"
    }
   ],
   "source": [
    "# Check the training data with stop words removed\n",
    "data_words_nostops[:1]"
   ]
  },
  {
   "cell_type": "code",
   "execution_count": 27,
   "metadata": {},
   "outputs": [],
   "source": [
    "# Calculate the frequency of each word in dataset\n",
    "from collections import defaultdict\n",
    "frequency = defaultdict(int)\n",
    "for text in data_words_nostops:\n",
    "    for token in text:\n",
    "        frequency[token] += 1"
   ]
  },
  {
   "cell_type": "code",
   "execution_count": 28,
   "metadata": {},
   "outputs": [
    {
     "data": {
      "text/plain": [
       "[('great', 10330),\n",
       " ('tablet', 8345),\n",
       " ('use', 7316),\n",
       " ('love', 6054),\n",
       " ('easy', 5758),\n",
       " ('amazon', 5569),\n",
       " ('kindle', 5162),\n",
       " ('bought', 4844),\n",
       " ('fire', 4688),\n",
       " ('good', 4474),\n",
       " ('price', 3756),\n",
       " ('like', 3663),\n",
       " ('tv', 3176),\n",
       " ('product', 2971),\n",
       " ('echo', 2857),\n",
       " ('read', 2728),\n",
       " ('music', 2714),\n",
       " ('works', 2706),\n",
       " ('alexa', 2597),\n",
       " ('apps', 2554),\n",
       " ('kids', 2537),\n",
       " ('books', 2486),\n",
       " ('loves', 2451),\n",
       " ('reading', 2362),\n",
       " ('device', 2308),\n",
       " ('best', 2250),\n",
       " ('time', 2218),\n",
       " ('games', 2209),\n",
       " ('buy', 2204),\n",
       " ('screen', 2157)]"
      ]
     },
     "execution_count": 28,
     "metadata": {},
     "output_type": "execute_result"
    }
   ],
   "source": [
    "# Print the list of most frequent occuring words\n",
    "import operator\n",
    "most_frq = sorted(frequency.items(),key = operator.itemgetter(1), reverse=True)\n",
    "most_frq[:30] # Top 10 most frquent words"
   ]
  },
  {
   "cell_type": "code",
   "execution_count": 29,
   "metadata": {},
   "outputs": [],
   "source": [
    "# Selectively creating a list of most frequent words that are irrelevant for the topic models\n",
    "most_frq_words = ['great','use','love',\n",
    "                  'easy','good','bought',\n",
    "                  'like','loves','best',\n",
    "                  'buy']"
   ]
  },
  {
   "cell_type": "code",
   "execution_count": 30,
   "metadata": {},
   "outputs": [
    {
     "data": {
      "text/plain": [
       "371"
      ]
     },
     "execution_count": 30,
     "metadata": {},
     "output_type": "execute_result"
    }
   ],
   "source": [
    "# add the the most frequent words to the stopwords list from the above analysis\n",
    "stop_words.extend(most_frq_words)\n",
    "len(stop_words) # Check the length of updated stopwords list"
   ]
  },
  {
   "cell_type": "code",
   "execution_count": 31,
   "metadata": {},
   "outputs": [],
   "source": [
    "# Again remove words from corpus using updated list\n",
    "data_words_nostops = remove_stopwords(data_words_nostops)"
   ]
  },
  {
   "cell_type": "code",
   "execution_count": 32,
   "metadata": {},
   "outputs": [
    {
     "data": {
      "text/plain": [
       "[['product',\n",
       "  'far',\n",
       "  'disappointed',\n",
       "  'children',\n",
       "  'ability',\n",
       "  'monitor',\n",
       "  'control',\n",
       "  'content',\n",
       "  'ease']]"
      ]
     },
     "execution_count": 32,
     "metadata": {},
     "output_type": "execute_result"
    }
   ],
   "source": [
    "# Print the first element of data list after removal of most frequent words\n",
    "data_words_nostops[:1]"
   ]
  },
  {
   "cell_type": "code",
   "execution_count": 33,
   "metadata": {},
   "outputs": [],
   "source": [
    "# Build the bigram model\n",
    "bigram = gensim.models.Phrases(data_words_nostops, min_count=1, threshold=100) # higher threshold fewer phrases."
   ]
  },
  {
   "cell_type": "code",
   "execution_count": 34,
   "metadata": {},
   "outputs": [],
   "source": [
    "# Faster way to get a sentence clubbed as a trigram/bigram\n",
    "bigram_mod = gensim.models.phrases.Phraser(bigram)"
   ]
  },
  {
   "cell_type": "code",
   "execution_count": 35,
   "metadata": {},
   "outputs": [],
   "source": [
    "# Function to make bigrams\n",
    "def make_bigrams(texts):\n",
    "    return [bigram_mod[doc] for doc in texts]"
   ]
  },
  {
   "cell_type": "code",
   "execution_count": 36,
   "metadata": {},
   "outputs": [],
   "source": [
    "# Import lemmatizer\n",
    "from nltk.stem import WordNetLemmatizer\n",
    "lemmatizer = WordNetLemmatizer()"
   ]
  },
  {
   "cell_type": "code",
   "execution_count": 37,
   "metadata": {},
   "outputs": [],
   "source": [
    "def lemmatization_stemming(texts, allowed_postags=['NOUN', 'ADJ', 'VERB', 'ADV']):\n",
    "    \"\"\"https://spacy.io/api/annotation\"\"\"\n",
    "    texts_out = []\n",
    "    for sent in texts:\n",
    "        doc = nlp(\" \".join(sent))\n",
    "        texts_out.append([lemmatizer.lemmatize(token.lemma_) for token in doc if token.pos_ in allowed_postags and len(token) > 1])\n",
    "    return texts_out"
   ]
  },
  {
   "cell_type": "code",
   "execution_count": 38,
   "metadata": {},
   "outputs": [],
   "source": [
    "# Form Bigrams\n",
    "data_words_bigrams = make_bigrams(data_words_nostops)"
   ]
  },
  {
   "cell_type": "code",
   "execution_count": 39,
   "metadata": {},
   "outputs": [],
   "source": [
    "# Do lemmatization keeping only noun, adj, vb, adv\n",
    "data_lemmatized = lemmatization_stemming(data_words_bigrams, allowed_postags=['NOUN', 'ADJ', 'VERB', 'ADV'])"
   ]
  },
  {
   "cell_type": "code",
   "execution_count": 40,
   "metadata": {},
   "outputs": [
    {
     "name": "stdout",
     "output_type": "stream",
     "text": [
      "[['product', 'far', 'disappointed', 'child', 'ability', 'monitor', 'control', 'content', 'ease']]\n"
     ]
    }
   ],
   "source": [
    "# Print first element of preprocessed data list after lemmatization \n",
    "print(data_lemmatized[:1])"
   ]
  },
  {
   "cell_type": "code",
   "execution_count": 41,
   "metadata": {},
   "outputs": [],
   "source": [
    "# create a word to index mapping with preprocessed data list\n",
    "id2word = corpora.Dictionary(data_lemmatized)"
   ]
  },
  {
   "cell_type": "code",
   "execution_count": 42,
   "metadata": {},
   "outputs": [],
   "source": [
    "# Create a list of words with POS as Adjective\n",
    "Adj = []\n",
    "for i in range(11924):\n",
    "    if nltk.pos_tag([id2word[i]])[0][1] == 'JJ':\n",
    "        Adj.append(id2word[i])"
   ]
  },
  {
   "cell_type": "code",
   "execution_count": 43,
   "metadata": {},
   "outputs": [
    {
     "data": {
      "text/plain": [
       "['disappointed',\n",
       " 'inexpensive',\n",
       " 'able',\n",
       " 'futuristic',\n",
       " 'nice',\n",
       " 'additional',\n",
       " 'basic',\n",
       " 'grand',\n",
       " 'little',\n",
       " 'big']"
      ]
     },
     "execution_count": 43,
     "metadata": {},
     "output_type": "execute_result"
    }
   ],
   "source": [
    "# print first 10 elements from the list of adjectives extracted\n",
    "Adj[:10]"
   ]
  },
  {
   "cell_type": "code",
   "execution_count": 45,
   "metadata": {},
   "outputs": [],
   "source": [
    "# add the the Adjectives to the stopwords list from the above analysis\n",
    "# Because the Adjectives are non relevant for topic models\n",
    "stop_words.extend(Adj)"
   ]
  },
  {
   "cell_type": "code",
   "execution_count": 46,
   "metadata": {},
   "outputs": [],
   "source": [
    "# Update the preprocessed data list\n",
    "data_lemmatized = remove_stopwords(data_lemmatized)"
   ]
  },
  {
   "cell_type": "code",
   "execution_count": 47,
   "metadata": {},
   "outputs": [],
   "source": [
    "# update the word to index mapping with updated preprocessed data list\n",
    "id2word = corpora.Dictionary(data_lemmatized)"
   ]
  },
  {
   "cell_type": "code",
   "execution_count": 48,
   "metadata": {},
   "outputs": [],
   "source": [
    "# Term Document Frequency\n",
    "# Create Corpus\n",
    "texts = data_lemmatized\n",
    "corpus = [id2word.doc2bow(text) for text in texts]"
   ]
  },
  {
   "cell_type": "code",
   "execution_count": 49,
   "metadata": {},
   "outputs": [
    {
     "data": {
      "text/plain": [
       "[[('ability', 1),\n",
       "  ('child', 1),\n",
       "  ('content', 1),\n",
       "  ('control', 1),\n",
       "  ('ease', 1),\n",
       "  ('far', 1),\n",
       "  ('monitor', 1),\n",
       "  ('product', 1)]]"
      ]
     },
     "execution_count": 49,
     "metadata": {},
     "output_type": "execute_result"
    }
   ],
   "source": [
    "# Human readable format of corpus (term-frequency)\n",
    "[[(id2word[id], freq) for id, freq in cp] for cp in corpus[:1]]"
   ]
  },
  {
   "cell_type": "markdown",
   "metadata": {},
   "source": [
    "# 4. Training and Visualisation"
   ]
  },
  {
   "cell_type": "code",
   "execution_count": 50,
   "metadata": {},
   "outputs": [],
   "source": [
    "# Build LDA model\n",
    "# for Single core processing use :\n",
    "# lda_model = gensim.models.ldamodel.LdaModel()\n",
    "lda_model = gensim.models.LdaMulticore(corpus=corpus,\n",
    "                                       id2word=id2word,\n",
    "                                       random_state=100,\n",
    "                                       num_topics=3,\n",
    "                                       passes=20,\n",
    "                                       per_word_topics=True,\n",
    "                                       workers=cores)"
   ]
  },
  {
   "cell_type": "code",
   "execution_count": 51,
   "metadata": {
    "scrolled": false
   },
   "outputs": [
    {
     "name": "stdout",
     "output_type": "stream",
     "text": [
      "[(0,\n",
      "  '0.079*\"tablet\" + 0.034*\"price\" + 0.028*\"kid\" + 0.023*\"game\" + 0.021*\"gift\" '\n",
      "  '+ 0.021*\"app\" + 0.020*\"purchase\" + 0.018*\"year\" + 0.015*\"play\" + '\n",
      "  '0.015*\"product\"'),\n",
      " (1,\n",
      "  '0.053*\"kindle\" + 0.038*\"read\" + 0.026*\"book\" + 0.019*\"screen\" + '\n",
      "  '0.017*\"light\" + 0.012*\"fire\" + 0.011*\"reader\" + 0.010*\"paperwhite\" + '\n",
      "  '0.009*\"device\" + 0.008*\"amazon\"'),\n",
      " (2,\n",
      "  '0.031*\"tv\" + 0.022*\"fire\" + 0.022*\"amazon\" + 0.022*\"echo\" + 0.019*\"music\" + '\n",
      "  '0.019*\"alexa\" + 0.017*\"work\" + 0.015*\"device\" + 0.012*\"product\" + '\n",
      "  '0.010*\"app\"')]\n"
     ]
    }
   ],
   "source": [
    "# Print the Keyword in the 3 topics\n",
    "pprint(lda_model.print_topics(num_words=10))\n",
    "doc_lda = lda_model[corpus]"
   ]
  },
  {
   "cell_type": "code",
   "execution_count": 52,
   "metadata": {},
   "outputs": [
    {
     "name": "stdout",
     "output_type": "stream",
     "text": [
      "\n",
      "Perplexity:  -6.588497023808975\n"
     ]
    }
   ],
   "source": [
    "# Compute Perplexity\n",
    "print('\\nPerplexity: ', lda_model.log_perplexity(corpus))  # a measure of how good the model is. lower the better."
   ]
  },
  {
   "cell_type": "code",
   "execution_count": 53,
   "metadata": {},
   "outputs": [],
   "source": [
    "# Compute Coherence Score\n",
    "coherence_model_lda = CoherenceModel(model=lda_model, texts=data_lemmatized, dictionary=id2word, coherence='c_v')"
   ]
  },
  {
   "cell_type": "code",
   "execution_count": 54,
   "metadata": {
    "scrolled": true
   },
   "outputs": [
    {
     "data": {
      "text/plain": [
       "0.5378044864156383"
      ]
     },
     "execution_count": 54,
     "metadata": {},
     "output_type": "execute_result"
    }
   ],
   "source": [
    "# Print the coherence values\n",
    "coherence_model_lda.get_coherence()"
   ]
  },
  {
   "cell_type": "code",
   "execution_count": 55,
   "metadata": {},
   "outputs": [
    {
     "data": {
      "text/html": [
       "\n",
       "<link rel=\"stylesheet\" type=\"text/css\" href=\"https://cdn.rawgit.com/bmabey/pyLDAvis/files/ldavis.v1.0.0.css\">\n",
       "\n",
       "\n",
       "<div id=\"ldavis_el1598417631990543762883177071\"></div>\n",
       "<script type=\"text/javascript\">\n",
       "\n",
       "var ldavis_el1598417631990543762883177071_data = {\"mdsDat\": {\"x\": [-0.1905523299508909, 0.131920207605582, 0.058632122345308894], \"y\": [-0.040904962750189296, -0.13907964306754164, 0.179984605817731], \"topics\": [1, 2, 3], \"cluster\": [1, 1, 1], \"Freq\": [38.7714729309082, 31.12896156311035, 30.099565505981445]}, \"tinfo\": {\"Category\": [\"Default\", \"Default\", \"Default\", \"Default\", \"Default\", \"Default\", \"Default\", \"Default\", \"Default\", \"Default\", \"Default\", \"Default\", \"Default\", \"Default\", \"Default\", \"Default\", \"Default\", \"Default\", \"Default\", \"Default\", \"Default\", \"Default\", \"Default\", \"Default\", \"Default\", \"Default\", \"Default\", \"Default\", \"Default\", \"Default\", \"Topic1\", \"Topic1\", \"Topic1\", \"Topic1\", \"Topic1\", \"Topic1\", \"Topic1\", \"Topic1\", \"Topic1\", \"Topic1\", \"Topic1\", \"Topic1\", \"Topic1\", \"Topic1\", \"Topic1\", \"Topic1\", \"Topic1\", \"Topic1\", \"Topic1\", \"Topic1\", \"Topic1\", \"Topic1\", \"Topic1\", \"Topic1\", \"Topic1\", \"Topic1\", \"Topic1\", \"Topic1\", \"Topic1\", \"Topic1\", \"Topic1\", \"Topic1\", \"Topic1\", \"Topic1\", \"Topic1\", \"Topic1\", \"Topic1\", \"Topic1\", \"Topic1\", \"Topic1\", \"Topic1\", \"Topic1\", \"Topic1\", \"Topic1\", \"Topic1\", \"Topic1\", \"Topic1\", \"Topic1\", \"Topic1\", \"Topic1\", \"Topic1\", \"Topic1\", \"Topic1\", \"Topic1\", \"Topic1\", \"Topic2\", \"Topic2\", \"Topic2\", \"Topic2\", \"Topic2\", \"Topic2\", \"Topic2\", \"Topic2\", \"Topic2\", \"Topic2\", \"Topic2\", \"Topic2\", \"Topic2\", \"Topic2\", \"Topic2\", \"Topic2\", \"Topic2\", \"Topic2\", \"Topic2\", \"Topic2\", \"Topic2\", \"Topic2\", \"Topic2\", \"Topic2\", \"Topic2\", \"Topic2\", \"Topic2\", \"Topic2\", \"Topic2\", \"Topic2\", \"Topic2\", \"Topic2\", \"Topic2\", \"Topic2\", \"Topic2\", \"Topic2\", \"Topic2\", \"Topic2\", \"Topic2\", \"Topic2\", \"Topic2\", \"Topic2\", \"Topic2\", \"Topic2\", \"Topic2\", \"Topic2\", \"Topic2\", \"Topic2\", \"Topic2\", \"Topic2\", \"Topic2\", \"Topic2\", \"Topic2\", \"Topic2\", \"Topic2\", \"Topic2\", \"Topic2\", \"Topic2\", \"Topic2\", \"Topic2\", \"Topic2\", \"Topic2\", \"Topic3\", \"Topic3\", \"Topic3\", \"Topic3\", \"Topic3\", \"Topic3\", \"Topic3\", \"Topic3\", \"Topic3\", \"Topic3\", \"Topic3\", \"Topic3\", \"Topic3\", \"Topic3\", \"Topic3\", \"Topic3\", \"Topic3\", \"Topic3\", \"Topic3\", \"Topic3\", \"Topic3\", \"Topic3\", \"Topic3\", \"Topic3\", \"Topic3\", \"Topic3\", \"Topic3\", \"Topic3\", \"Topic3\", \"Topic3\", \"Topic3\", \"Topic3\", \"Topic3\", \"Topic3\", \"Topic3\", \"Topic3\", \"Topic3\", \"Topic3\", \"Topic3\", \"Topic3\", \"Topic3\", \"Topic3\", \"Topic3\", \"Topic3\", \"Topic3\", \"Topic3\", \"Topic3\", \"Topic3\", \"Topic3\", \"Topic3\", \"Topic3\", \"Topic3\", \"Topic3\", \"Topic3\", \"Topic3\", \"Topic3\", \"Topic3\", \"Topic3\", \"Topic3\", \"Topic3\", \"Topic3\", \"Topic3\", \"Topic3\"], \"Freq\": [8245.0, 5163.0, 3822.0, 4099.0, 2758.0, 3676.0, 2314.0, 2679.0, 2093.0, 3028.0, 2383.0, 2355.0, 2059.0, 2002.0, 2193.0, 1115.0, 1096.0, 1052.0, 1045.0, 2731.0, 914.0, 1115.0, 1111.0, 1050.0, 1035.0, 1005.0, 1202.0, 3524.0, 2821.0, 741.0, 3821.38134765625, 2678.48779296875, 2355.131103515625, 2381.954345703125, 1114.86669921875, 1005.1463012695312, 1049.9232177734375, 759.061767578125, 786.4423217773438, 1034.2283935546875, 631.737548828125, 619.4202880859375, 552.780517578125, 555.772705078125, 558.5966186523438, 473.48919677734375, 591.6017456054688, 416.319580078125, 357.93194580078125, 414.69854736328125, 337.3521728515625, 1109.2208251953125, 322.0049133300781, 259.1746520996094, 255.71392822265625, 232.33096313476562, 224.210205078125, 213.23516845703125, 209.95758056640625, 251.8657684326172, 603.5665283203125, 408.95135498046875, 1166.5892333984375, 427.1770935058594, 698.2334594726562, 1120.5108642578125, 549.543212890625, 802.1211547851562, 747.432861328125, 539.890625, 1896.1884765625, 2688.712646484375, 2715.7705078125, 2042.8963623046875, 1108.0516357421875, 1097.2841796875, 1514.1766357421875, 1204.9920654296875, 1272.577880859375, 857.1124877929688, 847.489013671875, 764.5474243164062, 691.8850708007812, 677.9044799804688, 707.811279296875, 2756.947509765625, 1096.13916015625, 1113.8216552734375, 346.11602783203125, 375.97393798828125, 1043.5445556640625, 278.08184814453125, 249.28372192382812, 228.7581787109375, 210.3199005126953, 198.94573974609375, 182.4810333251953, 2305.500732421875, 2085.1875, 217.5655059814453, 175.16615295410156, 148.8151092529297, 172.48130798339844, 327.4520263671875, 155.47018432617188, 757.6100463867188, 118.01347351074219, 105.8947525024414, 98.5008773803711, 77.54622650146484, 141.56353759765625, 146.07659912109375, 69.17591094970703, 68.12686920166016, 87.53911590576172, 211.6761474609375, 240.82334899902344, 7823.4111328125, 146.9192657470703, 3349.271728515625, 244.7550811767578, 1786.6190185546875, 244.64178466796875, 1139.5733642578125, 326.2198486328125, 365.0946044921875, 2033.978271484375, 2014.3897705078125, 1525.3895263671875, 722.5983276367188, 610.0977783203125, 933.9955444335938, 1016.083984375, 1475.55078125, 747.35205078125, 439.75994873046875, 990.1472778320312, 1409.137939453125, 700.9010620117188, 914.4323120117188, 698.6170654296875, 1117.1851806640625, 1075.3819580078125, 758.16796875, 657.4349365234375, 483.556884765625, 491.5081481933594, 913.4813842773438, 740.7175903320312, 420.6230163574219, 368.6944274902344, 378.2606506347656, 359.5697937011719, 292.3715515136719, 312.3720397949219, 1049.51904296875, 416.52435302734375, 213.7899627685547, 208.35064697265625, 183.8016815185547, 182.22637939453125, 155.71240234375, 149.91600036621094, 311.1712951660156, 131.87509155273438, 131.44740295410156, 126.43846130371094, 164.17189025878906, 107.55269622802734, 144.15890502929688, 112.74855041503906, 96.28826904296875, 411.13665771484375, 88.71537780761719, 138.26817321777344, 77.4552993774414, 75.39875030517578, 5097.7275390625, 593.5721435546875, 467.0948486328125, 237.202392578125, 206.045166015625, 3658.13720703125, 1808.6087646484375, 471.3915710449219, 2536.512939453125, 372.94189453125, 470.1195983886719, 784.3947143554688, 300.7766418457031, 1642.6544189453125, 224.91635131835938, 385.6097717285156, 742.3246459960938, 411.6303405761719, 261.3581237792969, 349.44720458984375, 460.1734313964844, 890.3461303710938, 1108.0205078125, 750.779052734375, 703.5172729492188, 754.5651245117188, 788.3358764648438, 756.4476318359375, 535.8861083984375, 435.7873840332031, 449.94793701171875, 423.066650390625, 421.3483581542969], \"Term\": [\"tablet\", \"kindle\", \"tv\", \"read\", \"kid\", \"price\", \"game\", \"echo\", \"gift\", \"book\", \"music\", \"alexa\", \"screen\", \"year\", \"light\", \"christma\", \"son\", \"reader\", \"daughter\", \"play\", \"paperwhite\", \"stick\", \"sound\", \"box\", \"ask\", \"speaker\", \"prime\", \"app\", \"device\", \"charge\", \"tv\", \"echo\", \"alexa\", \"music\", \"stick\", \"speaker\", \"box\", \"smart\", \"stream\", \"ask\", \"voice\", \"question\", \"remote\", \"weather\", \"streaming\", \"dot\", \"listen\", \"answer\", \"roku\", \"news\", \"command\", \"sound\", \"bluetooth\", \"kodi\", \"skill\", \"shopping_list\", \"firetv\", \"song\", \"channel\", \"firestick\", \"house\", \"service\", \"prime\", \"tap\", \"cable\", \"home\", \"apple\", \"fun\", \"control\", \"connect\", \"device\", \"amazon\", \"fire\", \"work\", \"set\", \"thing\", \"product\", \"play\", \"app\", \"time\", \"purchase\", \"need\", \"watch\", \"movie\", \"want\", \"kid\", \"son\", \"christma\", \"grandson\", \"mom\", \"daughter\", \"granddaughter\", \"age\", \"nephew\", \"yr\", \"niece\", \"adult\", \"game\", \"gift\", \"mother\", \"school\", \"friendly\", \"grandkid\", \"black_friday\", \"beginner\", \"child\", \"grandchild\", \"starter\", \"parental\", \"surf\", \"dad\", \"facebook\", \"check_email\", \"mothers_day\", \"mother_law\", \"parent\", \"cant_beat\", \"tablet\", \"sister\", \"price\", \"present\", \"year\", \"birthday\", \"perfect\", \"camera\", \"value\", \"app\", \"purchase\", \"play\", \"download\", \"video\", \"watch\", \"recommend\", \"product\", \"enjoy\", \"friend\", \"want\", \"work\", \"movie\", \"time\", \"lot\", \"amazon\", \"fire\", \"need\", \"set\", \"quality\", \"book\", \"paperwhite\", \"charge\", \"page\", \"charger\", \"eye\", \"cover\", \"voyage\", \"weight\", \"reader\", \"model\", \"dark\", \"paper_white\", \"glare\", \"bright\", \"backlight\", \"nook\", \"display\", \"beach\", \"generation\", \"paper\", \"ereader\", \"font\", \"keyboard\", \"battery_last\", \"sun\", \"night\", \"print\", \"text\", \"sunlight\", \"avid_reader\", \"kindle\", \"battery_life\", \"hold\", \"lightweight\", \"bed\", \"read\", \"screen\", \"battery\", \"book\", \"carry\", \"version\", \"reading\", \"touch\", \"light\", \"card\", \"memory\", \"size\", \"replace\", \"resolution\", \"feel\", \"long\", \"device\", \"fire\", \"time\", \"need\", \"purchase\", \"amazon\", \"work\", \"want\", \"ipad\", \"look\", \"feature\", \"tablet\"], \"Total\": [8245.0, 5163.0, 3822.0, 4099.0, 2758.0, 3676.0, 2314.0, 2679.0, 2093.0, 3028.0, 2383.0, 2355.0, 2059.0, 2002.0, 2193.0, 1115.0, 1096.0, 1052.0, 1045.0, 2731.0, 914.0, 1115.0, 1111.0, 1050.0, 1035.0, 1005.0, 1202.0, 3524.0, 2821.0, 741.0, 3822.134521484375, 2679.2373046875, 2355.880126953125, 2383.196044921875, 1115.647705078125, 1005.9413452148438, 1050.80712890625, 759.82421875, 787.3157958984375, 1035.401611328125, 632.4768676757812, 620.2006225585938, 553.5279541015625, 556.5317993164062, 559.3677368164062, 474.2377014160156, 592.6221923828125, 417.0629577636719, 358.67364501953125, 415.5907287597656, 338.0904235839844, 1111.689697265625, 322.78656005859375, 259.9179382324219, 256.4734802246094, 233.06752014160156, 224.9554901123047, 213.98301696777344, 210.69871520996094, 252.78968811035156, 606.225830078125, 410.6206359863281, 1202.7401123046875, 431.74737548828125, 722.3690795898438, 1209.1280517578125, 593.3985595703125, 941.7113037109375, 872.0029296875, 593.0462646484375, 2821.555908203125, 4594.23388671875, 4899.1728515625, 4208.48193359375, 1801.234130859375, 1811.7288818359375, 3336.972900390625, 2731.568359375, 3524.66650390625, 2522.32373046875, 3616.444091796875, 2226.232666015625, 1626.540771484375, 1379.5152587890625, 2233.8447265625, 2758.004150390625, 1096.984130859375, 1115.6715087890625, 346.7505798339844, 376.6650390625, 1045.4794921875, 278.71728515625, 249.94821166992188, 229.41827392578125, 210.95872497558594, 199.58265686035156, 183.11631774902344, 2314.241943359375, 2093.39111328125, 218.445068359375, 175.91282653808594, 149.48980712890625, 173.32952880859375, 329.12249755859375, 156.27337646484375, 761.6724243164062, 118.65731811523438, 106.53887176513672, 99.14098358154297, 78.21873474121094, 142.87025451660156, 147.4612579345703, 69.86764526367188, 68.81927490234375, 88.49118041992188, 213.98585510253906, 244.92393493652344, 8245.03125, 149.56063842773438, 3676.83154296875, 252.88836669921875, 2002.38671875, 255.21238708496094, 1460.599609375, 375.0595703125, 438.87408447265625, 3524.66650390625, 3616.444091796875, 2731.568359375, 1073.1895751953125, 902.9857177734375, 1626.540771484375, 1848.0262451171875, 3336.972900390625, 1338.15234375, 626.627197265625, 2233.8447265625, 4208.48193359375, 1379.5152587890625, 2522.32373046875, 1697.499755859375, 4594.23388671875, 4899.1728515625, 2226.232666015625, 1801.234130859375, 1284.531982421875, 3028.294189453125, 914.1222534179688, 741.5044555664062, 421.2796630859375, 369.3592529296875, 378.9588928222656, 360.24566650390625, 293.0090026855469, 313.0630798339844, 1052.288330078125, 417.7646789550781, 214.4420928955078, 208.99082946777344, 184.44314575195312, 182.88096618652344, 156.34976196289062, 150.56747436523438, 312.54083251953125, 132.5257568359375, 132.15768432617188, 127.12960815429688, 165.11697387695312, 108.20106506347656, 145.08807373046875, 113.48328399658203, 96.93359375, 413.9770202636719, 89.37935638427734, 139.34542846679688, 78.09383392333984, 76.06663513183594, 5163.0283203125, 607.0291137695312, 477.68585205078125, 241.31134033203125, 210.2079620361328, 4099.72705078125, 2059.62158203125, 503.4366455078125, 3028.294189453125, 398.2680969238281, 515.2180786132812, 902.5031127929688, 320.63970947265625, 2193.22705078125, 235.20355224609375, 459.7781066894531, 1160.0113525390625, 541.3067626953125, 293.8070983886719, 457.42529296875, 733.8291015625, 2821.555908203125, 4899.1728515625, 2522.32373046875, 2226.232666015625, 3616.444091796875, 4594.23388671875, 4208.48193359375, 2233.8447265625, 877.4028930664062, 1281.100341796875, 1253.7808837890625, 8245.03125], \"loglift\": [30.0, 29.0, 28.0, 27.0, 26.0, 25.0, 24.0, 23.0, 22.0, 21.0, 20.0, 19.0, 18.0, 17.0, 16.0, 15.0, 14.0, 13.0, 12.0, 11.0, 10.0, 9.0, 8.0, 7.0, 6.0, 5.0, 4.0, 3.0, 2.0, 1.0, 0.9473000168800354, 0.9472000002861023, 0.9472000002861023, 0.9470000267028809, 0.9467999935150146, 0.9466999769210815, 0.9466000199317932, 0.9465000033378601, 0.946399986743927, 0.946399986743927, 0.9463000297546387, 0.9462000131607056, 0.9460999965667725, 0.9460999965667725, 0.9460999965667725, 0.945900022983551, 0.9458000063896179, 0.9456999897956848, 0.9453999996185303, 0.9452999830245972, 0.9452999830245972, 0.9452999830245972, 0.9451000094413757, 0.944599986076355, 0.9445000290870667, 0.9442999958992004, 0.9441999793052673, 0.9440000057220459, 0.9440000057220459, 0.9437999725341797, 0.9430999755859375, 0.9434000253677368, 0.9169999957084656, 0.9368000030517578, 0.9135000109672546, 0.871399998664856, 0.8707000017166138, 0.7870000004768372, 0.7932999730110168, 0.853600025177002, 0.550000011920929, 0.4117000102996826, 0.35749998688697815, 0.2248000055551529, 0.46160000562667847, 0.44600000977516174, 0.15729999542236328, 0.1290999948978424, -0.07129999995231628, -0.13189999759197235, -0.5034999847412109, -0.12129999697208405, 0.09269999712705612, 0.2370000034570694, -0.20180000364780426, 1.166599988937378, 1.1663000583648682, 1.1654000282287598, 1.1651999950408936, 1.1651999950408936, 1.1651999950408936, 1.1647000312805176, 1.1643999814987183, 1.164199948310852, 1.1640000343322754, 1.1638000011444092, 1.163599967956543, 1.1632000207901, 1.163100004196167, 1.1629999876022339, 1.1627999544143677, 1.162500023841858, 1.1620999574661255, 1.1619000434875488, 1.1619000434875488, 1.1617000102996826, 1.1615999937057495, 1.1610000133514404, 1.160599946975708, 1.158400058746338, 1.1577999591827393, 1.1576000452041626, 1.157099962234497, 1.1569000482559204, 1.1562000513076782, 1.1562000513076782, 1.1500999927520752, 1.1145000457763672, 1.1491999626159668, 1.073699951171875, 1.1342999935150146, 1.0529999732971191, 1.1246999502182007, 0.9187999963760376, 1.027500033378601, 0.9829999804496765, 0.6172000169754028, 0.5819000005722046, 0.5843999981880188, 0.7714999914169312, 0.7749000191688538, 0.6122999787330627, 0.5688999891281128, 0.35100001096725464, 0.5845000147819519, 0.8129000067710876, 0.35339999198913574, 0.07289999723434448, 0.48989999294281006, 0.15240000188350677, 0.2791999876499176, -0.24699999392032623, -0.34940001368522644, 0.08990000188350677, 0.15919999778270721, 0.19009999930858612, -0.651199996471405, 1.2000000476837158, 1.1995999813079834, 1.1991000175476074, 1.1988999843597412, 1.198799967765808, 1.198799967765808, 1.1985000371932983, 1.1984000205993652, 1.1979999542236328, 1.197700023651123, 1.19760000705719, 1.19760000705719, 1.1971999406814575, 1.197100043296814, 1.1965999603271484, 1.1963000297546387, 1.1963000297546387, 1.1957000494003296, 1.1952999830245972, 1.195199966430664, 1.1949000358581543, 1.194599986076355, 1.194200038909912, 1.194200038909912, 1.194000005722046, 1.1937999725341797, 1.1931999921798706, 1.1928999423980713, 1.1923999786376953, 1.1917999982833862, 1.1878999471664429, 1.1782000064849854, 1.1782000064849854, 1.183500051498413, 1.1806999444961548, 1.0866999626159668, 1.0707000494003296, 1.1348999738693237, 1.0234999656677246, 1.1349999904632568, 1.1090999841690063, 1.0604000091552734, 1.1367000341415405, 0.9115999937057495, 1.155900001525879, 1.0247000455856323, 0.7542999982833862, 0.926800012588501, 1.0836000442504883, 0.9314000010490417, 0.734000027179718, 0.047200001776218414, -0.2858000099658966, -0.01119999960064888, 0.048700001090765, -0.36640000343322754, -0.5619999766349792, -0.5156000256538391, -0.22689999639987946, 0.5008000135421753, 0.1543000042438507, 0.11429999768733978, -1.7732000350952148], \"logprob\": [30.0, 29.0, 28.0, 27.0, 26.0, 25.0, 24.0, 23.0, 22.0, 21.0, 20.0, 19.0, 18.0, 17.0, 16.0, 15.0, 14.0, 13.0, 12.0, 11.0, 10.0, 9.0, 8.0, 7.0, 6.0, 5.0, 4.0, 3.0, 2.0, 1.0, -3.474400043487549, -3.8297998905181885, -3.958400011062622, -3.9470999240875244, -4.706299781799316, -4.809899806976318, -4.766300201416016, -5.090700149536133, -5.055300235748291, -4.781400203704834, -5.2743000984191895, -5.294000148773193, -5.407800197601318, -5.402400016784668, -5.39739990234375, -5.562699794769287, -5.340000152587891, -5.691299915313721, -5.842400074005127, -5.695199966430664, -5.901700019836426, -4.711400032043457, -5.948200225830078, -6.165299892425537, -6.178699970245361, -6.274600028991699, -6.310200214385986, -6.360400199890137, -6.375899791717529, -6.193900108337402, -5.319900035858154, -5.709199905395508, -4.660999774932861, -5.665599822998047, -5.174200057983398, -4.701200008392334, -5.413700103759766, -5.0355000495910645, -5.106100082397461, -5.431399822235107, -4.17519998550415, -3.8259999752044678, -3.815999984741211, -4.1006999015808105, -4.712399959564209, -4.7221999168396, -4.400199890136719, -4.628600120544434, -4.573999881744385, -4.969200134277344, -4.980500221252441, -5.083499908447266, -5.1834001541137695, -5.203800201416016, -5.160600185394287, -3.581399917602539, -4.503699779510498, -4.48769998550415, -5.656499862670898, -5.573699951171875, -4.5528998374938965, -5.87529993057251, -5.9847002029418945, -6.0706000328063965, -6.154600143432617, -6.21019983291626, -6.296599864959717, -3.760200023651123, -3.860599994659424, -6.120699882507324, -6.337500095367432, -6.500500202178955, -6.353000164031982, -5.711900234222412, -6.4567999839782715, -4.8730998039245605, -6.732399940490723, -6.840799808502197, -6.9131999015808105, -7.152400016784668, -6.55049991607666, -6.519100189208984, -7.266600131988525, -7.281899929046631, -7.031199932098389, -6.148200035095215, -6.019199848175049, -2.5383999347686768, -6.513400077819824, -3.386699914932251, -6.002999782562256, -4.015200138092041, -6.003399848937988, -4.464799880981445, -5.715700149536133, -5.603099822998047, -3.885499954223633, -3.89520001411438, -4.1732001304626465, -4.920400142669678, -5.089600086212158, -4.66379976272583, -4.579500198364258, -4.206500053405762, -4.88670015335083, -5.416999816894531, -4.605400085449219, -4.252500057220459, -4.950900077819824, -4.684899806976318, -4.954100131988525, -4.4847002029418945, -4.522799968719482, -4.872300148010254, -5.014900207519531, -5.3221001625061035, -5.305799961090088, -4.652400016784668, -4.861999988555908, -5.4278998374938965, -5.559599876403809, -5.533999919891357, -5.584700107574463, -5.791600227355957, -5.725399971008301, -4.513500213623047, -5.437699794769287, -6.104599952697754, -6.13040018081665, -6.255799770355225, -6.264400005340576, -6.421599864959717, -6.459499835968018, -5.729300022125244, -6.587800025939941, -6.591000080108643, -6.629899978637695, -6.36870002746582, -6.791600227355957, -6.498700141906738, -6.744500160217285, -6.902299880981445, -5.450699806213379, -6.9842000007629395, -6.54040002822876, -7.119900226593018, -7.1468000411987305, -2.9330999851226807, -5.083499908447266, -5.3231000900268555, -6.000699996948242, -6.141499996185303, -3.264899969100952, -3.9693000316619873, -5.313899993896484, -3.6310999393463135, -5.5482001304626465, -5.3165998458862305, -4.804699897766113, -5.763199806213379, -4.065499782562256, -6.053899765014648, -5.514800071716309, -4.859799861907959, -5.44950008392334, -5.90369987487793, -5.61329984664917, -5.3379998207092285, -4.677999973297119, -4.4593000411987305, -4.848499774932861, -4.91349983215332, -4.843500137329102, -4.799699783325195, -4.841000080108643, -5.185699939727783, -5.392499923706055, -5.360499858856201, -5.422100067138672, -5.426199913024902]}, \"token.table\": {\"Topic\": [2, 2, 1, 1, 2, 3, 1, 1, 2, 3, 1, 2, 3, 1, 2, 3, 3, 1, 2, 3, 3, 2, 3, 3, 1, 3, 2, 3, 1, 2, 3, 2, 3, 1, 2, 3, 1, 3, 1, 3, 2, 3, 2, 3, 2, 3, 1, 2, 3, 1, 2, 3, 3, 2, 2, 3, 2, 3, 1, 1, 2, 3, 1, 2, 3, 3, 1, 2, 3, 3, 2, 3, 1, 2, 3, 2, 3, 1, 1, 2, 3, 1, 1, 2, 3, 2, 3, 3, 2, 3, 1, 2, 3, 1, 2, 3, 1, 2, 3, 1, 3, 1, 3, 1, 2, 3, 2, 1, 2, 1, 2, 3, 2, 3, 3, 2, 2, 2, 2, 2, 3, 1, 2, 3, 1, 3, 2, 3, 1, 3, 1, 2, 2, 3, 1, 1, 3, 2, 3, 1, 2, 1, 2, 3, 1, 2, 3, 1, 2, 3, 1, 2, 3, 1, 3, 2, 2, 3, 2, 3, 2, 1, 2, 3, 1, 2, 1, 2, 3, 2, 1, 2, 2, 1, 3, 3, 3, 3, 3, 3, 1, 2, 2, 1, 2, 3, 1, 2, 3, 1, 2, 3, 1, 2, 3, 1, 2, 3, 3, 1, 2, 3, 1, 2, 3, 1, 2, 3, 1, 2, 3, 2, 3, 2, 3, 1, 2, 3, 1, 1, 2, 3, 2, 3, 1, 2, 2, 3, 1, 3, 1, 2, 3, 1, 1, 2, 3, 1, 2, 3, 1, 1, 2, 3, 1, 1, 2, 3, 1, 2, 1, 1, 1, 3, 3, 2, 2, 3, 1, 3, 1, 3, 1, 2, 3, 1, 2, 3, 1, 2, 3, 1, 1, 2, 3, 1, 2, 3, 1, 2, 3, 1, 3, 1, 2, 3, 1, 2, 3, 1, 3, 1, 2, 3, 1, 2, 3, 2], \"Freq\": [0.9939037561416626, 0.9962063431739807, 0.9996263980865479, 0.5852988958358765, 0.2431308478116989, 0.17151935398578644, 0.9974513053894043, 0.36116892099380493, 0.5770758986473083, 0.061849821358919144, 0.9268643856048584, 0.053926654160022736, 0.0202224962413311, 0.9986463189125061, 0.0009658088092692196, 0.9859776496887207, 0.9977629780769348, 0.06157676503062248, 0.001986347371712327, 0.9355695843696594, 0.9957413673400879, 0.021415777504444122, 0.9785362482070923, 0.9960327744483948, 0.01902877539396286, 0.9799818992614746, 0.9918516278266907, 0.006399042438715696, 0.03918305039405823, 0.9599847793579102, 0.003918305039405823, 0.9935510158538818, 0.003038382390514016, 0.9975632429122925, 0.16246770322322845, 0.8377653956413269, 0.9992318749427795, 0.9951828718185425, 0.966265082359314, 0.033224012702703476, 0.869195282459259, 0.13064591586589813, 0.9839789867401123, 0.01633160188794136, 0.04251636564731598, 0.9566181898117065, 0.0025108715053647757, 0.06026091426610947, 0.936555027961731, 0.9966838359832764, 0.001348609570413828, 0.9993196725845337, 0.9990273714065552, 0.9875816106796265, 0.9951784610748291, 0.005251601338386536, 0.9985017776489258, 0.0017926424043253064, 0.9967747330665588, 0.9105529189109802, 0.0016862091142684221, 0.08768287301063538, 0.8566485047340393, 0.1261463612318039, 0.016054991632699966, 0.9993180632591248, 0.006999357603490353, 0.9939087629318237, 0.006999357603490353, 0.9979383945465088, 0.9985848665237427, 0.0019129978027194738, 0.6719696521759033, 0.012404503300786018, 0.31542879343032837, 0.003199581988155842, 0.9950699806213379, 0.9973901510238647, 0.07640775293111801, 0.6736927032470703, 0.2506546974182129, 0.9995381832122803, 0.3347899913787842, 0.5582324266433716, 0.10686376690864563, 0.006056312471628189, 0.9932352304458618, 0.9974696636199951, 0.990090548992157, 0.00678144209086895, 0.4187334477901459, 0.24326419830322266, 0.337379515171051, 0.19456729292869568, 0.0415368378162384, 0.7629660964012146, 0.5543792843818665, 0.2194247990846634, 0.22616063058376312, 0.9968761205673218, 0.003955857362598181, 0.9957525134086609, 0.9981417655944824, 0.29682719707489014, 0.7021718621253967, 0.0015958452131599188, 0.996723473072052, 0.851641058921814, 0.1476036161184311, 0.0034568554256111383, 0.9964386224746704, 0.9912401437759399, 0.995991587638855, 0.0038215506356209517, 0.9975973963737488, 0.9944603443145752, 0.997426450252533, 0.992329478263855, 0.9978353977203369, 0.02093425951898098, 0.9776299595832825, 0.9271143674850464, 0.01654084585607052, 0.05706591531634331, 0.9963283538818359, 0.0032991005573421717, 0.502619743347168, 0.4969210922718048, 0.006892365403473377, 0.9925006031990051, 0.00036258104955777526, 0.9996359348297119, 0.012589510530233383, 0.987405002117157, 0.9964683651924133, 0.25077202916145325, 0.7491244673728943, 0.016576096415519714, 0.982133686542511, 0.9989501237869263, 0.0016874157590791583, 0.16625124216079712, 0.20713269710540771, 0.6268489360809326, 0.3067675530910492, 0.34189358353614807, 0.35126054286956787, 0.39587634801864624, 0.41178208589553833, 0.19263625144958496, 0.023924583569169044, 0.13919757306575775, 0.8395354151725769, 0.002393692033365369, 0.9981696009635925, 0.9982343912124634, 0.9979625344276428, 0.0045778099447488785, 0.9944493770599365, 0.011300561018288136, 0.9880952835083008, 0.49147698283195496, 0.5081495046615601, 0.0007248923066072166, 0.9994981288909912, 0.00041960459202528, 0.3436298370361328, 0.34048551321029663, 0.31622931361198425, 0.9981768131256104, 0.9985786080360413, 0.0024062134325504303, 0.9970806241035461, 0.004831186030060053, 0.9928087592124939, 0.9962310791015625, 0.9993361830711365, 0.9911144971847534, 0.9952589869499207, 0.9987723231315613, 0.009346412494778633, 0.9907196760177612, 0.9985779523849487, 0.012323705479502678, 0.7805013656616211, 0.2074490487575531, 0.44113850593566895, 0.5582873225212097, 0.00036609004018828273, 0.003954314161092043, 0.9688069224357605, 0.02768019773066044, 0.008159198798239231, 0.9108385443687439, 0.08104804158210754, 0.9702844023704529, 0.024111609905958176, 0.005820043850690126, 0.995755672454834, 0.4537046253681183, 0.44231703877449036, 0.103986456990242, 0.23420795798301697, 0.5569006204605103, 0.20876860618591309, 0.49045100808143616, 0.37679094076156616, 0.13312241435050964, 0.9980641603469849, 0.10756813734769821, 0.8922545313835144, 0.0028509297408163548, 0.9978253841400146, 0.1307474672794342, 0.868695080280304, 0.32196512818336487, 0.5497757196426392, 0.12824493646621704, 0.9990462064743042, 0.1440957486629486, 0.09606382995843887, 0.7611210942268372, 0.10891500115394592, 0.8883379697799683, 0.9981218576431274, 0.994810938835144, 0.12186704576015472, 0.8783167004585266, 0.9960532188415527, 0.002435337984934449, 0.6151338219642639, 0.3647499084472656, 0.019986296072602272, 0.9954196810722351, 0.013372502289712429, 0.9828789234161377, 0.0066862511448562145, 0.0025861815083771944, 0.35689306259155273, 0.6396489143371582, 0.9981538653373718, 0.9989152550697327, 0.9991028904914856, 0.000911590235773474, 0.9954060912132263, 0.9975805282592773, 0.0008995315874926746, 0.0017990631749853492, 0.9990642070770264, 0.9949420094490051, 0.9994194507598877, 0.9983287453651428, 0.9993425607681274, 0.9903687238693237, 0.9859933257102966, 0.997203528881073, 0.9488138556480408, 0.051061056554317474, 0.9890042543411255, 0.009264676831662655, 0.007176410406827927, 0.9903446435928345, 0.6054989695549011, 0.23844628036022186, 0.15565243363380432, 0.3397660553455353, 0.362364262342453, 0.2977413237094879, 0.056137774139642715, 0.006237530615180731, 0.9387483596801758, 0.9997031688690186, 0.03189980983734131, 0.8316736221313477, 0.13671347498893738, 0.08540073037147522, 0.0019409257220104337, 0.9122350811958313, 0.3111898601055145, 0.6755366921424866, 0.013289246708154678, 0.9992460608482361, 0.9965564012527466, 0.31694236397743225, 0.443182110786438, 0.23994505405426025, 0.42544275522232056, 0.5742247700691223, 0.0006148016545921564, 0.9990444183349609, 0.9966042637825012, 0.4854482114315033, 0.3348000645637512, 0.17963722348213196, 0.0024970201775431633, 0.8924350142478943, 0.10537425428628922, 0.9954553842544556], \"Term\": [\"adult\", \"age\", \"alexa\", \"amazon\", \"amazon\", \"amazon\", \"answer\", \"app\", \"app\", \"app\", \"apple\", \"apple\", \"apple\", \"ask\", \"ask\", \"avid_reader\", \"backlight\", \"battery\", \"battery\", \"battery\", \"battery_last\", \"battery_life\", \"battery_life\", \"beach\", \"bed\", \"bed\", \"beginner\", \"beginner\", \"birthday\", \"birthday\", \"birthday\", \"black_friday\", \"black_friday\", \"bluetooth\", \"book\", \"book\", \"box\", \"bright\", \"cable\", \"cable\", \"camera\", \"camera\", \"cant_beat\", \"cant_beat\", \"card\", \"card\", \"carry\", \"carry\", \"carry\", \"channel\", \"charge\", \"charge\", \"charger\", \"check_email\", \"child\", \"child\", \"christma\", \"christma\", \"command\", \"connect\", \"connect\", \"connect\", \"control\", \"control\", \"control\", \"cover\", \"dad\", \"dad\", \"dad\", \"dark\", \"daughter\", \"daughter\", \"device\", \"device\", \"device\", \"display\", \"display\", \"dot\", \"download\", \"download\", \"download\", \"echo\", \"enjoy\", \"enjoy\", \"enjoy\", \"ereader\", \"ereader\", \"eye\", \"facebook\", \"facebook\", \"feature\", \"feature\", \"feature\", \"feel\", \"feel\", \"feel\", \"fire\", \"fire\", \"fire\", \"firestick\", \"firestick\", \"firetv\", \"font\", \"friend\", \"friend\", \"friend\", \"friendly\", \"fun\", \"fun\", \"game\", \"game\", \"generation\", \"gift\", \"gift\", \"glare\", \"grandchild\", \"granddaughter\", \"grandkid\", \"grandson\", \"hold\", \"hold\", \"home\", \"home\", \"home\", \"house\", \"house\", \"ipad\", \"ipad\", \"keyboard\", \"keyboard\", \"kid\", \"kid\", \"kindle\", \"kindle\", \"kodi\", \"light\", \"light\", \"lightweight\", \"lightweight\", \"listen\", \"listen\", \"long\", \"long\", \"long\", \"look\", \"look\", \"look\", \"lot\", \"lot\", \"lot\", \"memory\", \"memory\", \"memory\", \"model\", \"model\", \"mom\", \"mother\", \"mother\", \"mother_law\", \"mother_law\", \"mothers_day\", \"movie\", \"movie\", \"movie\", \"music\", \"music\", \"need\", \"need\", \"need\", \"nephew\", \"news\", \"news\", \"niece\", \"night\", \"night\", \"nook\", \"page\", \"paper\", \"paper_white\", \"paperwhite\", \"parent\", \"parent\", \"parental\", \"perfect\", \"perfect\", \"perfect\", \"play\", \"play\", \"play\", \"present\", \"present\", \"present\", \"price\", \"price\", \"price\", \"prime\", \"prime\", \"prime\", \"print\", \"product\", \"product\", \"product\", \"purchase\", \"purchase\", \"purchase\", \"quality\", \"quality\", \"quality\", \"question\", \"read\", \"read\", \"reader\", \"reader\", \"reading\", \"reading\", \"recommend\", \"recommend\", \"recommend\", \"remote\", \"replace\", \"replace\", \"replace\", \"resolution\", \"resolution\", \"roku\", \"school\", \"screen\", \"screen\", \"service\", \"service\", \"set\", \"set\", \"set\", \"shopping_list\", \"sister\", \"sister\", \"sister\", \"size\", \"size\", \"size\", \"skill\", \"smart\", \"son\", \"son\", \"song\", \"sound\", \"sound\", \"sound\", \"speaker\", \"starter\", \"stick\", \"stream\", \"streaming\", \"sun\", \"sunlight\", \"surf\", \"tablet\", \"tablet\", \"tap\", \"tap\", \"text\", \"text\", \"thing\", \"thing\", \"thing\", \"time\", \"time\", \"time\", \"touch\", \"touch\", \"touch\", \"tv\", \"value\", \"value\", \"value\", \"version\", \"version\", \"version\", \"video\", \"video\", \"video\", \"voice\", \"voyage\", \"want\", \"want\", \"want\", \"watch\", \"watch\", \"watch\", \"weather\", \"weight\", \"work\", \"work\", \"work\", \"year\", \"year\", \"year\", \"yr\"]}, \"R\": 30, \"lambda.step\": 0.01, \"plot.opts\": {\"xlab\": \"PC1\", \"ylab\": \"PC2\"}, \"topic.order\": [3, 1, 2]};\n",
       "\n",
       "function LDAvis_load_lib(url, callback){\n",
       "  var s = document.createElement('script');\n",
       "  s.src = url;\n",
       "  s.async = true;\n",
       "  s.onreadystatechange = s.onload = callback;\n",
       "  s.onerror = function(){console.warn(\"failed to load library \" + url);};\n",
       "  document.getElementsByTagName(\"head\")[0].appendChild(s);\n",
       "}\n",
       "\n",
       "if(typeof(LDAvis) !== \"undefined\"){\n",
       "   // already loaded: just create the visualization\n",
       "   !function(LDAvis){\n",
       "       new LDAvis(\"#\" + \"ldavis_el1598417631990543762883177071\", ldavis_el1598417631990543762883177071_data);\n",
       "   }(LDAvis);\n",
       "}else if(typeof define === \"function\" && define.amd){\n",
       "   // require.js is available: use it to load d3/LDAvis\n",
       "   require.config({paths: {d3: \"https://cdnjs.cloudflare.com/ajax/libs/d3/3.5.5/d3.min\"}});\n",
       "   require([\"d3\"], function(d3){\n",
       "      window.d3 = d3;\n",
       "      LDAvis_load_lib(\"https://cdn.rawgit.com/bmabey/pyLDAvis/files/ldavis.v1.0.0.js\", function(){\n",
       "        new LDAvis(\"#\" + \"ldavis_el1598417631990543762883177071\", ldavis_el1598417631990543762883177071_data);\n",
       "      });\n",
       "    });\n",
       "}else{\n",
       "    // require.js not available: dynamically load d3 & LDAvis\n",
       "    LDAvis_load_lib(\"https://cdnjs.cloudflare.com/ajax/libs/d3/3.5.5/d3.min.js\", function(){\n",
       "         LDAvis_load_lib(\"https://cdn.rawgit.com/bmabey/pyLDAvis/files/ldavis.v1.0.0.js\", function(){\n",
       "                 new LDAvis(\"#\" + \"ldavis_el1598417631990543762883177071\", ldavis_el1598417631990543762883177071_data);\n",
       "            })\n",
       "         });\n",
       "}\n",
       "</script>"
      ],
      "text/plain": [
       "PreparedData(topic_coordinates=              x         y  topics  cluster       Freq\n",
       "topic                                                \n",
       "2     -0.190552 -0.040905       1        1  38.771473\n",
       "0      0.131920 -0.139080       2        1  31.128962\n",
       "1      0.058632  0.179985       3        1  30.099566, topic_info=     Category         Freq         Term        Total  loglift  logprob\n",
       "16    Default  8245.000000       tablet  8245.000000  30.0000  30.0000\n",
       "104   Default  5163.000000       kindle  5163.000000  29.0000  29.0000\n",
       "299   Default  3822.000000           tv  3822.000000  28.0000  28.0000\n",
       "91    Default  4099.000000         read  4099.000000  27.0000  27.0000\n",
       "254   Default  2758.000000          kid  2758.000000  26.0000  26.0000\n",
       "69    Default  3676.000000        price  3676.000000  25.0000  25.0000\n",
       "116   Default  2314.000000         game  2314.000000  24.0000  24.0000\n",
       "734   Default  2679.000000         echo  2679.000000  23.0000  23.0000\n",
       "10    Default  2093.000000         gift  2093.000000  22.0000  22.0000\n",
       "98    Default  3028.000000         book  3028.000000  21.0000  21.0000\n",
       "138   Default  2383.000000        music  2383.000000  20.0000  20.0000\n",
       "604   Default  2355.000000        alexa  2355.000000  19.0000  19.0000\n",
       "47    Default  2059.000000       screen  2059.000000  18.0000  18.0000\n",
       "190   Default  2002.000000         year  2002.000000  17.0000  17.0000\n",
       "89    Default  2193.000000        light  2193.000000  16.0000  16.0000\n",
       "260   Default  1115.000000     christma  1115.000000  15.0000  15.0000\n",
       "388   Default  1096.000000          son  1096.000000  14.0000  14.0000\n",
       "107   Default  1052.000000       reader  1052.000000  13.0000  13.0000\n",
       "61    Default  1045.000000     daughter  1045.000000  12.0000  12.0000\n",
       "117   Default  2731.000000         play  2731.000000  11.0000  11.0000\n",
       "720   Default   914.000000   paperwhite   914.000000  10.0000  10.0000\n",
       "1068  Default  1115.000000        stick  1115.000000   9.0000   9.0000\n",
       "295   Default  1111.000000        sound  1111.000000   8.0000   8.0000\n",
       "473   Default  1050.000000          box  1050.000000   7.0000   7.0000\n",
       "693   Default  1035.000000          ask  1035.000000   6.0000   6.0000\n",
       "296   Default  1005.000000      speaker  1005.000000   5.0000   5.0000\n",
       "44    Default  1202.000000        prime  1202.000000   4.0000   4.0000\n",
       "127   Default  3524.000000          app  3524.000000   3.0000   3.0000\n",
       "101   Default  2821.000000       device  2821.000000   2.0000   2.0000\n",
       "229   Default   741.000000       charge   741.000000   1.0000   1.0000\n",
       "...       ...          ...          ...          ...      ...      ...\n",
       "676    Topic3   237.202393  lightweight   241.311340   1.1835  -6.0007\n",
       "318    Topic3   206.045166          bed   210.207962   1.1807  -6.1415\n",
       "91     Topic3  3658.137207         read  4099.727051   1.0867  -3.2649\n",
       "47     Topic3  1808.608765       screen  2059.621582   1.0707  -3.9693\n",
       "536    Topic3   471.391571      battery   503.436646   1.1349  -5.3139\n",
       "98     Topic3  2536.512939         book  3028.294189   1.0235  -3.6311\n",
       "147    Topic3   372.941895        carry   398.268097   1.1350  -5.5482\n",
       "315    Topic3   470.119598      version   515.218079   1.1091  -5.3166\n",
       "171    Topic3   784.394714      reading   902.503113   1.0604  -4.8047\n",
       "612    Topic3   300.776642        touch   320.639709   1.1367  -5.7632\n",
       "89     Topic3  1642.654419        light  2193.227051   0.9116  -4.0655\n",
       "133    Topic3   224.916351         card   235.203552   1.1559  -6.0539\n",
       "137    Topic3   385.609772       memory   459.778107   1.0247  -5.5148\n",
       "87     Topic3   742.324646         size  1160.011353   0.7543  -4.8598\n",
       "417    Topic3   411.630341      replace   541.306763   0.9268  -5.4495\n",
       "572    Topic3   261.358124   resolution   293.807098   1.0836  -5.9037\n",
       "29     Topic3   349.447205         feel   457.425293   0.9314  -5.6133\n",
       "216    Topic3   460.173431         long   733.829102   0.7340  -5.3380\n",
       "101    Topic3   890.346130       device  2821.555908   0.0472  -4.6780\n",
       "30     Topic3  1108.020508         fire  4899.172852  -0.2858  -4.4593\n",
       "109    Topic3   750.779053         time  2522.323730  -0.0112  -4.8485\n",
       "66     Topic3   703.517273         need  2226.232666   0.0487  -4.9135\n",
       "86     Topic3   754.565125     purchase  3616.444092  -0.3664  -4.8435\n",
       "56     Topic3   788.335876       amazon  4594.233887  -0.5620  -4.7997\n",
       "196    Topic3   756.447632         work  4208.481934  -0.5156  -4.8410\n",
       "118    Topic3   535.886108         want  2233.844727  -0.2269  -5.1857\n",
       "37     Topic3   435.787384         ipad   877.402893   0.5008  -5.3925\n",
       "39     Topic3   449.947937         look  1281.100342   0.1543  -5.3605\n",
       "95     Topic3   423.066650      feature  1253.780884   0.1143  -5.4221\n",
       "16     Topic3   421.348358       tablet  8245.031250  -1.7732  -5.4262\n",
       "\n",
       "[210 rows x 6 columns], token_table=      Topic      Freq          Term\n",
       "term                               \n",
       "478       2  0.993904         adult\n",
       "55        2  0.996206           age\n",
       "604       1  0.999626         alexa\n",
       "56        1  0.585299        amazon\n",
       "56        2  0.243131        amazon\n",
       "56        3  0.171519        amazon\n",
       "1023      1  0.997451        answer\n",
       "127       1  0.361169           app\n",
       "127       2  0.577076           app\n",
       "127       3  0.061850           app\n",
       "515       1  0.926864         apple\n",
       "515       2  0.053927         apple\n",
       "515       3  0.020222         apple\n",
       "693       1  0.998646           ask\n",
       "693       2  0.000966           ask\n",
       "1447      3  0.985978   avid_reader\n",
       "1309      3  0.997763     backlight\n",
       "536       1  0.061577       battery\n",
       "536       2  0.001986       battery\n",
       "536       3  0.935570       battery\n",
       "886       3  0.995741  battery_last\n",
       "302       2  0.021416  battery_life\n",
       "302       3  0.978536  battery_life\n",
       "2546      3  0.996033         beach\n",
       "318       1  0.019029           bed\n",
       "318       3  0.979982           bed\n",
       "8         2  0.991852      beginner\n",
       "8         3  0.006399      beginner\n",
       "320       1  0.039183      birthday\n",
       "320       2  0.959985      birthday\n",
       "...     ...       ...           ...\n",
       "612       1  0.056138         touch\n",
       "612       2  0.006238         touch\n",
       "612       3  0.938748         touch\n",
       "299       1  0.999703            tv\n",
       "52        1  0.031900         value\n",
       "52        2  0.831674         value\n",
       "52        3  0.136713         value\n",
       "315       1  0.085401       version\n",
       "315       2  0.001941       version\n",
       "315       3  0.912235       version\n",
       "132       1  0.311190         video\n",
       "132       2  0.675537         video\n",
       "132       3  0.013289         video\n",
       "768       1  0.999246         voice\n",
       "2608      3  0.996556        voyage\n",
       "118       1  0.316942          want\n",
       "118       2  0.443182          want\n",
       "118       3  0.239945          want\n",
       "53        1  0.425443         watch\n",
       "53        2  0.574225         watch\n",
       "53        3  0.000615         watch\n",
       "2444      1  0.999044       weather\n",
       "92        3  0.996604        weight\n",
       "196       1  0.485448          work\n",
       "196       2  0.334800          work\n",
       "196       3  0.179637          work\n",
       "190       1  0.002497          year\n",
       "190       2  0.892435          year\n",
       "190       3  0.105374          year\n",
       "142       2  0.995455            yr\n",
       "\n",
       "[298 rows x 3 columns], R=30, lambda_step=0.01, plot_opts={'xlab': 'PC1', 'ylab': 'PC2'}, topic_order=[3, 1, 2])"
      ]
     },
     "execution_count": 55,
     "metadata": {},
     "output_type": "execute_result"
    }
   ],
   "source": [
    "# Visualize the topics\n",
    "pyLDAvis.enable_notebook()\n",
    "vis = pyLDAvis.gensim.prepare(lda_model, corpus, id2word)\n",
    "vis"
   ]
  },
  {
   "cell_type": "code",
   "execution_count": 56,
   "metadata": {},
   "outputs": [],
   "source": [
    "# Finding the dominant topic in each sentence\n",
    "def format_topics_sentences(ldamodel, corpus, texts):\n",
    "    # Init output\n",
    "    sent_topics_df = pd.DataFrame()\n",
    "\n",
    "    # Get main topic in each document\n",
    "    for i, row in enumerate(ldamodel.get_document_topics(corpus, minimum_probability=0.0)):\n",
    "        \n",
    "        row = sorted(row, key=lambda x: (x[1]), reverse=True)\n",
    "        \n",
    "        # Get the Dominant topic, Perc Contribution and Keywords for each document\n",
    "        for j, (topic_num, prop_topic) in enumerate(row):\n",
    "            if j == 0:  # => dominant topic\n",
    "                wp = ldamodel.show_topic(topic_num)\n",
    "                topic_keywords = \", \".join([word for word, prop in wp])\n",
    "                sent_topics_df = sent_topics_df.append(pd.Series([int(topic_num), round(prop_topic,4), topic_keywords]), ignore_index=True)\n",
    "            else:\n",
    "                break\n",
    "    sent_topics_df.columns = ['Dominant_Topic', 'Perc_Contribution', 'Topic_Keywords']\n",
    "\n",
    "    # Add original text to the end of the output\n",
    "    contents = pd.Series(texts)\n",
    "    sent_topics_df = pd.concat([ sent_topics_df, contents], axis=1)\n",
    "    return(sent_topics_df)"
   ]
  },
  {
   "cell_type": "code",
   "execution_count": 57,
   "metadata": {},
   "outputs": [],
   "source": [
    "# Finding the dominant topic in each review\n",
    "df_topic_sents_keywords = format_topics_sentences(lda_model, corpus, data_reduced_sent)\n",
    "\n",
    "# Format\n",
    "df_dominant_topic = df_topic_sents_keywords.reset_index()\n",
    "df_dominant_topic.columns = ['Document_No','Dominant_Topic', 'Topic_Perc_Contrib', 'Keywords', 'Text']"
   ]
  },
  {
   "cell_type": "code",
   "execution_count": 58,
   "metadata": {},
   "outputs": [],
   "source": [
    "# Save the output file to disc\n",
    "df_dominant_topic.to_csv('Final_results_train.csv')"
   ]
  },
  {
   "cell_type": "markdown",
   "metadata": {},
   "source": [
    "# 5. Validation"
   ]
  },
  {
   "cell_type": "code",
   "execution_count": 59,
   "metadata": {},
   "outputs": [],
   "source": [
    "# Read test file\n",
    "df_test = pd.read_csv('test.csv', encoding='latin1')"
   ]
  },
  {
   "cell_type": "code",
   "execution_count": 60,
   "metadata": {},
   "outputs": [],
   "source": [
    "# Clean, preprocess and get model predictions\n",
    "sentence_test = df_test['reviews.text'].tolist()\n",
    "sentence_test = [re.sub('\\s+', ' ', sent) for sent in sentence_test]\n",
    "sentence_test = [re.sub(\"\\'\", \"\", sent) for sent in sentence_test]\n",
    "sent_words_test = list(sent_to_words(sentence_test))\n",
    "sent_words_nostops_test = remove_stopwords(sent_words_test)\n",
    "sent_words_bigrams_test = make_bigrams(sent_words_nostops_test)\n",
    "sent_lemmatized_test = lemmatization_stemming(sent_words_bigrams_test, allowed_postags=['NOUN', 'ADJ', 'VERB', 'ADV'])\n",
    "id2word_test = corpora.Dictionary(sent_lemmatized_test)\n",
    "ADJ_test = []\n",
    "for i in range(3973):\n",
    "    if nltk.pos_tag([id2word_test[i]])[0][1] == 'JJ':\n",
    "        ADJ_test.append(id2word_test[i])\n",
    "stop_words.extend(ADJ_test)\n",
    "sent_lemmatized_test = remove_stopwords(sent_lemmatized_test)\n",
    "id2word_test = corpora.Dictionary(sent_lemmatized_test)\n",
    "corpus_test = [id2word.doc2bow(text) for text in sent_lemmatized_test]\n",
    "ls = lda_model.get_document_topics(corpus,minimum_probability=0.00)"
   ]
  },
  {
   "cell_type": "code",
   "execution_count": 61,
   "metadata": {},
   "outputs": [],
   "source": [
    "# Create sentences to be used for results csv\n",
    "data_reduced_sent_test = [\" \".join(y) for y in sent_words_test]"
   ]
  },
  {
   "cell_type": "code",
   "execution_count": 62,
   "metadata": {},
   "outputs": [],
   "source": [
    "df_topic_sents_keywords = format_topics_sentences(lda_model, corpus_test, data_reduced_sent_test)\n",
    "\n",
    "# Format\n",
    "df_dominant_topic = df_topic_sents_keywords.reset_index()\n",
    "df_dominant_topic.columns = ['Document_No','Dominant_Topic', 'Topic_Perc_Contrib', 'Keywords', 'Text']\n",
    "\n",
    "df_dominant_topic.to_csv('Final_results_test.csv')"
   ]
  },
  {
   "cell_type": "markdown",
   "metadata": {},
   "source": [
    "# 6. Finding Optimal no. of Topics"
   ]
  },
  {
   "cell_type": "code",
   "execution_count": 63,
   "metadata": {},
   "outputs": [],
   "source": [
    "# find the optimal number of topics for LDA\n",
    "def compute_coherence_values(dictionary, corpus, texts, start=1, limit = 8, step=1):\n",
    "    \"\"\"\n",
    "    Compute c_v coherence for various number of topics\n",
    "\n",
    "    Parameters:\n",
    "    ----------\n",
    "    dictionary : Gensim dictionary\n",
    "    corpus : Gensim corpus\n",
    "    texts : List of input texts\n",
    "    limit : Max num of topics\n",
    "\n",
    "    Returns:\n",
    "    -------\n",
    "    model_list : List of LDA topic models\n",
    "    coherence_values : Coherence values corresponding to the LDA model with respective number of topics\n",
    "    \"\"\"\n",
    "    coherence_values = []\n",
    "    model_list = []\n",
    "    for num_topics in range(start, limit, step):\n",
    "        print(\"Training with {} number of Topics.\".format(num_topics))\n",
    "        model = gensim.models.ldamodel.LdaModel(corpus=corpus,\n",
    "                                                id2word=id2word,\n",
    "                                                num_topics=num_topics,\n",
    "                                                random_state=None,\n",
    "                                                update_every=1,\n",
    "                                                chunksize=3466,\n",
    "                                                passes=20,\n",
    "                                                alpha='auto',\n",
    "                                                eta='auto',\n",
    "                                                per_word_topics=True)\n",
    "        model_list.append(model)\n",
    "        coherencemodel = CoherenceModel(model=model, texts=texts, dictionary=dictionary, coherence='c_v')\n",
    "        coherence_values.append(coherencemodel.get_coherence())\n",
    "\n",
    "    return model_list, coherence_values"
   ]
  },
  {
   "cell_type": "code",
   "execution_count": 64,
   "metadata": {},
   "outputs": [
    {
     "name": "stdout",
     "output_type": "stream",
     "text": [
      "Training with 1 number of Topics.\n",
      "Training with 2 number of Topics.\n",
      "Training with 3 number of Topics.\n",
      "Training with 4 number of Topics.\n",
      "Training with 5 number of Topics.\n"
     ]
    }
   ],
   "source": [
    "# create multiple models with variation in number of topics\n",
    "# can take a long time\n",
    "model_list, coherence_values = compute_coherence_values(dictionary=id2word, corpus=corpus,texts=data_lemmatized, start=1, limit=6, step=1)"
   ]
  },
  {
   "cell_type": "code",
   "execution_count": 65,
   "metadata": {},
   "outputs": [
    {
     "name": "stdout",
     "output_type": "stream",
     "text": [
      "[0.3002683690367215, 0.45649382393169685, 0.5836549864504846, 0.6479309853227269, 0.596624979990344]\n"
     ]
    },
    {
     "data": {
      "image/png": "[encoded data removed]",
      "text/plain": [
       "<Figure size 432x288 with 1 Axes>"
      ]
     },
     "metadata": {
      "needs_background": "light"
     },
     "output_type": "display_data"
    }
   ],
   "source": [
    "# Show graph\n",
    "print(coherence_values)\n",
    "limit = 6; start=1; step=1\n",
    "x = range(start, limit, step)\n",
    "plt.plot(x, coherence_values)\n",
    "plt.xlabel(\"Num Topics\")\n",
    "plt.ylabel(\"Coherence Score\")\n",
    "plt.legend((\"coherence_values\"), loc='best')\n",
    "plt.show()"
   ]
  },
  {
   "cell_type": "code",
   "execution_count": 66,
   "metadata": {},
   "outputs": [
    {
     "name": "stdout",
     "output_type": "stream",
     "text": [
      "Num Topics = 1  has Coherence Value of 0.3003\n",
      "Num Topics = 2  has Coherence Value of 0.4565\n",
      "Num Topics = 3  has Coherence Value of 0.5837\n",
      "Num Topics = 4  has Coherence Value of 0.6479\n",
      "Num Topics = 5  has Coherence Value of 0.5966\n"
     ]
    }
   ],
   "source": [
    "# Print the coherence scores for all the models\n",
    "for m, cv in zip(x, coherence_values):\n",
    "      print(\"Num Topics =\", m, \" has Coherence Value of\", round(cv, 4))"
   ]
  },
  {
   "cell_type": "code",
   "execution_count": 67,
   "metadata": {},
   "outputs": [
    {
     "name": "stdout",
     "output_type": "stream",
     "text": [
      "[(0,\n",
      "  '0.074*\"tablet\" + 0.036*\"price\" + 0.036*\"purchase\" + 0.031*\"product\" + '\n",
      "  '0.028*\"kid\" + 0.022*\"gift\" + 0.021*\"work\" + 0.021*\"game\" + 0.021*\"year\" + '\n",
      "  '0.020*\"recommend\"'),\n",
      " (1,\n",
      "  '0.056*\"tv\" + 0.052*\"fire\" + 0.041*\"amazon\" + 0.031*\"app\" + 0.020*\"work\" + '\n",
      "  '0.019*\"device\" + 0.016*\"stick\" + 0.016*\"watch\" + 0.016*\"box\" + '\n",
      "  '0.014*\"prime\"'),\n",
      " (2,\n",
      "  '0.069*\"kindle\" + 0.055*\"read\" + 0.039*\"book\" + 0.025*\"light\" + '\n",
      "  '0.021*\"screen\" + 0.014*\"reader\" + 0.013*\"paperwhite\" + 0.012*\"reading\" + '\n",
      "  '0.011*\"dot\" + 0.010*\"charge\"'),\n",
      " (3,\n",
      "  '0.046*\"echo\" + 0.041*\"alexa\" + 0.040*\"music\" + 0.035*\"play\" + 0.020*\"home\" '\n",
      "  '+ 0.019*\"sound\" + 0.018*\"ask\" + 0.017*\"speaker\" + 0.015*\"thing\" + '\n",
      "  '0.015*\"fun\"')]\n"
     ]
    }
   ],
   "source": [
    "# Select the optimal model and print the topics\n",
    "# Analysis shows the optimal model is at with 4 topics i.e Index 3 of the model list\n",
    "optimal_model = model_list[3] # Use the index of the model with highest Coherence value\n",
    "model_topics = optimal_model.show_topics(formatted=False)\n",
    "pprint(optimal_model.print_topics(num_words=10))"
   ]
  },
  {
   "cell_type": "code",
   "execution_count": 68,
   "metadata": {},
   "outputs": [
    {
     "data": {
      "text/html": [
       "\n",
       "<link rel=\"stylesheet\" type=\"text/css\" href=\"https://cdn.rawgit.com/bmabey/pyLDAvis/files/ldavis.v1.0.0.css\">\n",
       "\n",
       "\n",
       "<div id=\"ldavis_el1598417633082136164167352030\"></div>\n",
       "<script type=\"text/javascript\">\n",
       "\n",
       "var ldavis_el1598417633082136164167352030_data = {\"mdsDat\": {\"x\": [0.06829295048529475, -0.02528331790740205, 0.2184719503191552, -0.2614815828970479], \"y\": [0.04734546296824625, -0.2826581462972555, 0.10657289142079378, 0.1287397919082156], \"topics\": [1, 2, 3, 4], \"cluster\": [1, 1, 1, 1], \"Freq\": [28.655763626098633, 28.641149520874023, 21.67795753479004, 21.025136947631836]}, \"tinfo\": {\"Category\": [\"Default\", \"Default\", \"Default\", \"Default\", \"Default\", \"Default\", \"Default\", \"Default\", \"Default\", \"Default\", \"Default\", \"Default\", \"Default\", \"Default\", \"Default\", \"Default\", \"Default\", \"Default\", \"Default\", \"Default\", \"Default\", \"Default\", \"Default\", \"Default\", \"Default\", \"Default\", \"Default\", \"Default\", \"Default\", \"Default\", \"Topic1\", \"Topic1\", \"Topic1\", \"Topic1\", \"Topic1\", \"Topic1\", \"Topic1\", \"Topic1\", \"Topic1\", \"Topic1\", \"Topic1\", \"Topic1\", \"Topic1\", \"Topic1\", \"Topic1\", \"Topic1\", \"Topic1\", \"Topic1\", \"Topic1\", \"Topic1\", \"Topic1\", \"Topic1\", \"Topic1\", \"Topic1\", \"Topic1\", \"Topic1\", \"Topic1\", \"Topic1\", \"Topic1\", \"Topic1\", \"Topic1\", \"Topic1\", \"Topic1\", \"Topic1\", \"Topic1\", \"Topic1\", \"Topic1\", \"Topic1\", \"Topic1\", \"Topic1\", \"Topic1\", \"Topic1\", \"Topic1\", \"Topic1\", \"Topic1\", \"Topic1\", \"Topic1\", \"Topic1\", \"Topic1\", \"Topic1\", \"Topic1\", \"Topic1\", \"Topic1\", \"Topic1\", \"Topic1\", \"Topic1\", \"Topic1\", \"Topic1\", \"Topic1\", \"Topic2\", \"Topic2\", \"Topic2\", \"Topic2\", \"Topic2\", \"Topic2\", \"Topic2\", \"Topic2\", \"Topic2\", \"Topic2\", \"Topic2\", \"Topic2\", \"Topic2\", \"Topic2\", \"Topic2\", \"Topic2\", \"Topic2\", \"Topic2\", \"Topic2\", \"Topic2\", \"Topic2\", \"Topic2\", \"Topic2\", \"Topic2\", \"Topic2\", \"Topic2\", \"Topic2\", \"Topic2\", \"Topic2\", \"Topic2\", \"Topic2\", \"Topic2\", \"Topic2\", \"Topic2\", \"Topic2\", \"Topic2\", \"Topic2\", \"Topic2\", \"Topic2\", \"Topic2\", \"Topic2\", \"Topic2\", \"Topic2\", \"Topic2\", \"Topic2\", \"Topic2\", \"Topic2\", \"Topic2\", \"Topic2\", \"Topic2\", \"Topic2\", \"Topic2\", \"Topic2\", \"Topic3\", \"Topic3\", \"Topic3\", \"Topic3\", \"Topic3\", \"Topic3\", \"Topic3\", \"Topic3\", \"Topic3\", \"Topic3\", \"Topic3\", \"Topic3\", \"Topic3\", \"Topic3\", \"Topic3\", \"Topic3\", \"Topic3\", \"Topic3\", \"Topic3\", \"Topic3\", \"Topic3\", \"Topic3\", \"Topic3\", \"Topic3\", \"Topic3\", \"Topic3\", \"Topic3\", \"Topic3\", \"Topic3\", \"Topic3\", \"Topic3\", \"Topic3\", \"Topic3\", \"Topic3\", \"Topic3\", \"Topic3\", \"Topic3\", \"Topic3\", \"Topic3\", \"Topic3\", \"Topic3\", \"Topic3\", \"Topic3\", \"Topic3\", \"Topic3\", \"Topic4\", \"Topic4\", \"Topic4\", \"Topic4\", \"Topic4\", \"Topic4\", \"Topic4\", \"Topic4\", \"Topic4\", \"Topic4\", \"Topic4\", \"Topic4\", \"Topic4\", \"Topic4\", \"Topic4\", \"Topic4\", \"Topic4\", \"Topic4\", \"Topic4\", \"Topic4\", \"Topic4\", \"Topic4\", \"Topic4\", \"Topic4\", \"Topic4\", \"Topic4\", \"Topic4\", \"Topic4\", \"Topic4\", \"Topic4\", \"Topic4\", \"Topic4\", \"Topic4\", \"Topic4\", \"Topic4\", \"Topic4\", \"Topic4\", \"Topic4\", \"Topic4\", \"Topic4\", \"Topic4\", \"Topic4\", \"Topic4\", \"Topic4\", \"Topic4\", \"Topic4\", \"Topic4\", \"Topic4\", \"Topic4\", \"Topic4\"], \"Freq\": [6712.0, 4763.0, 5099.0, 3772.0, 4814.0, 3109.0, 2765.0, 2702.0, 2712.0, 3328.0, 2317.0, 2864.0, 4345.0, 2550.0, 2017.0, 4023.0, 1930.0, 2269.0, 1344.0, 1242.0, 2086.0, 1491.0, 1188.0, 1858.0, 1432.0, 1416.0, 1108.0, 1277.0, 4036.0, 998.0, 6712.3017578125, 2017.2579345703125, 1050.8150634765625, 1012.3165893554688, 968.1063232421875, 684.5857543945312, 342.2795715332031, 3325.87353515625, 311.75299072265625, 2548.4609375, 396.03302001953125, 262.71710205078125, 258.5452575683594, 250.22366333007812, 251.02798461914062, 236.1763916015625, 238.06405639648438, 188.84890747070312, 203.3480987548828, 197.4623260498047, 197.3924560546875, 183.72532653808594, 173.1394805908203, 169.75332641601562, 143.58055114746094, 140.21656799316406, 132.80995178222656, 128.3303680419922, 123.99553680419922, 154.32810974121094, 1911.19140625, 214.47959899902344, 1931.8133544921875, 518.8641967773438, 711.503173828125, 3309.061767578125, 436.3212890625, 1778.0186767578125, 296.8389892578125, 2848.376220703125, 1120.021484375, 835.236083984375, 646.7117919921875, 976.8045043945312, 1954.5516357421875, 417.4954833984375, 411.4664001464844, 470.0942687988281, 609.0100708007812, 1014.7239990234375, 995.4989624023438, 1069.0511474609375, 558.6962890625, 502.0381164550781, 773.8120727539062, 773.6865234375, 541.7017822265625, 545.6798706054688, 523.6004638671875, 5099.017578125, 1491.53662109375, 1416.1761474609375, 1431.83935546875, 1276.726318359375, 947.5515747070312, 989.4442138671875, 739.1329345703125, 723.620849609375, 694.7308959960938, 580.732177734375, 545.7945556640625, 485.1278381347656, 456.2540283203125, 357.47515869140625, 360.9790344238281, 346.0972900390625, 372.6247253417969, 319.0974426269531, 317.5019226074219, 321.7240295410156, 293.4048767089844, 271.4751281738281, 194.5703582763672, 179.6837158203125, 175.99581909179688, 188.87796020507812, 164.1908416748047, 161.1728515625, 159.66387939453125, 4753.0830078125, 2815.14404296875, 699.2220458984375, 254.16177368164062, 203.73133850097656, 453.09881591796875, 475.1241149902344, 1285.24560546875, 1144.0947265625, 3764.88134765625, 337.5538024902344, 512.396484375, 1763.9422607421875, 382.2978210449219, 470.2943420410156, 535.1724243164062, 1785.61767578125, 482.12872314453125, 685.7618408203125, 449.0653076171875, 641.9097290039062, 613.7330932617188, 484.3282165527344, 4763.17236328125, 3772.640869140625, 2712.405517578125, 982.0645751953125, 918.1607055664062, 785.8023681640625, 812.6463012695312, 696.9959106445312, 446.6236572265625, 425.3135681152344, 412.48675537109375, 400.2806396484375, 388.7469177246094, 368.9744873046875, 371.5420837402344, 346.9400634765625, 316.33197021484375, 307.7024230957031, 311.56494140625, 294.1152038574219, 217.9410400390625, 220.37338256835938, 208.46078491210938, 202.98483276367188, 174.9716339111328, 166.1795196533203, 154.9794921875, 155.55023193359375, 149.92352294921875, 134.4045867919922, 135.59613037109375, 471.15789794921875, 380.716064453125, 1743.16357421875, 1450.68115234375, 265.42498779296875, 661.5289916992188, 409.3561706542969, 411.86553955078125, 315.1796875, 671.49609375, 382.23370361328125, 418.65911865234375, 436.26312255859375, 400.2101745605469, 3108.631591796875, 2765.083251953125, 2702.14794921875, 1187.7130126953125, 2316.3955078125, 1242.1240234375, 1108.6158447265625, 997.9298706054688, 718.5169067382812, 653.270263671875, 641.0125732421875, 482.3757019042969, 472.8526916503906, 719.2877807617188, 300.7507629394531, 289.7582702636719, 268.0765380859375, 256.89678955078125, 212.23501586914062, 206.39736938476562, 181.4460906982422, 179.60888671875, 166.3806915283203, 162.32957458496094, 150.8355712890625, 147.21812438964844, 142.8036346435547, 139.86399841308594, 324.9702453613281, 123.77664947509766, 1339.986572265625, 285.83575439453125, 262.8439636230469, 896.1207885742188, 436.7005920410156, 335.51806640625, 719.4710083007812, 431.9423522949219, 567.8270263671875, 428.0751037597656, 1015.7079467773438, 868.8882446289062, 483.9052429199219, 792.529052734375, 654.935791015625, 432.766845703125, 666.9442749023438, 524.48046875, 522.6632690429688, 475.1355895996094], \"Term\": [\"tablet\", \"kindle\", \"tv\", \"read\", \"fire\", \"echo\", \"alexa\", \"music\", \"book\", \"price\", \"play\", \"app\", \"amazon\", \"kid\", \"gift\", \"purchase\", \"year\", \"light\", \"home\", \"sound\", \"game\", \"stick\", \"ask\", \"screen\", \"watch\", \"box\", \"speaker\", \"movie\", \"product\", \"fun\", \"tablet\", \"gift\", \"christma\", \"son\", \"daughter\", \"child\", \"mom\", \"price\", \"grandson\", \"kid\", \"value\", \"birthday\", \"black_friday\", \"present\", \"granddaughter\", \"age\", \"thank\", \"joke\", \"cant_beat\", \"mother\", \"nephew\", \"yr\", \"adult\", \"niece\", \"sister\", \"friendly\", \"beginner\", \"dad\", \"warranty\", \"school\", \"year\", \"parent\", \"game\", \"sale\", \"friend\", \"purchase\", \"deal\", \"recommend\", \"camera\", \"product\", \"perfect\", \"item\", \"money\", \"enjoy\", \"work\", \"absolutely\", \"expect\", \"highly\", \"family\", \"want\", \"need\", \"time\", \"wife\", \"ipad\", \"lot\", \"set\", \"worth\", \"look\", \"quality\", \"tv\", \"stick\", \"box\", \"watch\", \"movie\", \"cable\", \"stream\", \"remote\", \"streaming\", \"apple\", \"netflix\", \"content\", \"roku\", \"picture\", \"kodi\", \"command\", \"firestick\", \"android\", \"firetv\", \"interface\", \"memory\", \"install\", \"buffer\", \"support\", \"bedroom\", \"medium\", \"youtube\", \"processor\", \"lag\", \"wireless\", \"fire\", \"app\", \"video\", \"connection\", \"view\", \"run\", \"service\", \"prime\", \"fast\", \"amazon\", \"load\", \"access\", \"device\", \"faster\", \"wifi\", \"internet\", \"work\", \"option\", \"need\", \"issue\", \"want\", \"product\", \"quality\", \"kindle\", \"read\", \"book\", \"reader\", \"paperwhite\", \"dot\", \"reading\", \"charge\", \"hold\", \"night\", \"page\", \"cover\", \"charger\", \"eye\", \"carry\", \"song\", \"touch\", \"voyage\", \"library\", \"weight\", \"bed\", \"lightweight\", \"dark\", \"paper_white\", \"glare\", \"bright\", \"lighting\", \"backlight\", \"ereader\", \"text\", \"nook\", \"battery\", \"travel\", \"light\", \"screen\", \"button\", \"size\", \"battery_life\", \"long\", \"feel\", \"time\", \"turn\", \"want\", \"device\", \"need\", \"echo\", \"alexa\", \"music\", \"ask\", \"play\", \"sound\", \"speaker\", \"fun\", \"question\", \"listen\", \"weather\", \"answer\", \"news\", \"house\", \"channel\", \"skill\", \"shopping_list\", \"information\", \"timer\", \"playing\", \"kitchen\", \"home_automation\", \"pandora\", \"siri\", \"alarm\", \"morning\", \"loud\", \"request\", \"cool\", \"thermostat\", \"home\", \"hear\", \"talk\", \"control\", \"tap\", \"bluetooth\", \"smart\", \"tell\", \"voice\", \"room\", \"thing\", \"set\", \"turn\", \"device\", \"time\", \"add\", \"work\", \"light\", \"product\", \"amazon\"], \"Total\": [6712.0, 4763.0, 5099.0, 3772.0, 4814.0, 3109.0, 2765.0, 2702.0, 2712.0, 3328.0, 2317.0, 2864.0, 4345.0, 2550.0, 2017.0, 4023.0, 1930.0, 2269.0, 1344.0, 1242.0, 2086.0, 1491.0, 1188.0, 1858.0, 1432.0, 1416.0, 1108.0, 1277.0, 4036.0, 998.0, 6712.958984375, 2017.5682373046875, 1051.10595703125, 1012.6150512695312, 968.398193359375, 684.8733520507812, 342.54046630859375, 3328.59814453125, 312.0143127441406, 2550.7802734375, 396.4011535644531, 262.96746826171875, 258.8039855957031, 250.47442626953125, 251.283935546875, 236.4293212890625, 238.3358154296875, 189.0831756591797, 203.60113525390625, 197.710205078125, 197.64218139648438, 183.973388671875, 173.3857421875, 170.00030517578125, 143.82008361816406, 140.45751953125, 133.05198669433594, 128.56814575195312, 124.23270416259766, 154.64987182617188, 1930.6220703125, 214.95957946777344, 2086.98291015625, 552.9600219726562, 781.41064453125, 4023.4482421875, 475.66632080078125, 2227.9609375, 313.03570556640625, 4036.3818359375, 1406.42724609375, 1110.3419189453125, 874.6456298828125, 1506.037109375, 4545.54052734375, 526.7686767578125, 527.2635498046875, 646.8671264648438, 960.2355346679688, 2311.62353515625, 2310.36376953125, 2686.3212890625, 894.5576171875, 746.9505615234375, 1783.0299072265625, 2056.84326171875, 898.033935546875, 1289.443359375, 1330.3951416015625, 5099.4052734375, 1491.873046875, 1416.511962890625, 1432.2083740234375, 1277.08935546875, 947.8742065429688, 989.7831420898438, 739.4478759765625, 723.9364013671875, 695.0524291992188, 581.0519409179688, 546.1101684570312, 485.42901611328125, 456.5763854980469, 357.76727294921875, 361.280517578125, 346.3881530761719, 372.9402160644531, 319.3864440917969, 317.799072265625, 322.0355529785156, 293.7017822265625, 271.7598876953125, 194.8584747314453, 179.96487426757812, 176.27723693847656, 189.18809509277344, 164.47450256347656, 161.45458984375, 159.9453582763672, 4814.62060546875, 2864.343994140625, 704.2479858398438, 254.63458251953125, 204.20437622070312, 458.0258483886719, 483.78839111328125, 1361.5814208984375, 1226.7283935546875, 4345.41015625, 344.1517333984375, 569.72998046875, 3013.115234375, 406.3934326171875, 540.8470458984375, 652.232177734375, 4545.54052734375, 641.78369140625, 2310.36376953125, 691.9207763671875, 2311.62353515625, 4036.3818359375, 1330.3951416015625, 4763.53369140625, 3772.98779296875, 2712.74072265625, 982.3619995117188, 918.4501953125, 786.0789184570312, 812.9389038085938, 697.29248046875, 446.8983154296875, 425.5824890136719, 412.75689697265625, 400.5464782714844, 389.0191345214844, 369.2409362792969, 371.81158447265625, 347.1965026855469, 316.5962219238281, 307.9616394042969, 311.83367919921875, 294.3786926269531, 218.19313049316406, 220.63064575195312, 208.71380615234375, 203.23684692382812, 175.221435546875, 166.43048095703125, 155.22332763671875, 155.795654296875, 150.1726531982422, 134.6486358642578, 135.84300231933594, 496.346435546875, 414.8047790527344, 2269.356201171875, 1858.591064453125, 291.7030334472656, 1037.6695556640625, 547.625244140625, 759.9100341796875, 475.9075927734375, 2686.3212890625, 876.183837890625, 2311.62353515625, 3013.115234375, 2310.36376953125, 3109.00244140625, 2765.4482421875, 2702.515380859375, 1188.0484619140625, 2317.05615234375, 1242.501708984375, 1108.9544677734375, 998.261474609375, 718.8338012695312, 653.5874633789062, 641.3258666992188, 482.6803283691406, 473.15838623046875, 719.7586669921875, 301.0328369140625, 290.0490417480469, 268.3638610839844, 257.18646240234375, 212.5186309814453, 206.688232421875, 181.72509765625, 179.88661193847656, 166.6571044921875, 162.60311889648438, 151.10922241210938, 147.49436950683594, 143.0791015625, 140.13644409179688, 325.6457824707031, 124.04561614990234, 1344.0516357421875, 286.7554016113281, 263.7455139160156, 953.8765869140625, 461.9686584472656, 354.607666015625, 913.7184448242188, 527.7728881835938, 777.076416015625, 564.4901733398438, 1972.8408203125, 2056.84326171875, 876.183837890625, 3013.115234375, 2686.3212890625, 886.2822875976562, 4545.54052734375, 2269.356201171875, 4036.3818359375, 4345.41015625], \"loglift\": [30.0, 29.0, 28.0, 27.0, 26.0, 25.0, 24.0, 23.0, 22.0, 21.0, 20.0, 19.0, 18.0, 17.0, 16.0, 15.0, 14.0, 13.0, 12.0, 11.0, 10.0, 9.0, 8.0, 7.0, 6.0, 5.0, 4.0, 3.0, 2.0, 1.0, 1.2496999502182007, 1.2496999502182007, 1.249500036239624, 1.249500036239624, 1.249500036239624, 1.249400019645691, 1.2490999698638916, 1.2489999532699585, 1.2489999532699585, 1.248900055885315, 1.248900055885315, 1.248900055885315, 1.2488000392913818, 1.2488000392913818, 1.2488000392913818, 1.2487000226974487, 1.2487000226974487, 1.2486000061035156, 1.2486000061035156, 1.2486000061035156, 1.2486000061035156, 1.2484999895095825, 1.2483999729156494, 1.2483999729156494, 1.2481000423431396, 1.2481000423431396, 1.2480000257492065, 1.2480000257492065, 1.2479000091552734, 1.2476999759674072, 1.2396999597549438, 1.2475999593734741, 1.1726000308990479, 1.1862000226974487, 1.1561000347137451, 1.0542999505996704, 1.1634999513626099, 1.0241999626159668, 1.1966999769210815, 0.901199996471405, 1.0220999717712402, 0.9650999903678894, 0.9478999972343445, 0.8169000148773193, 0.4058000147342682, 1.017300009727478, 1.0017999410629272, 0.9305999875068665, 0.7944999933242798, 0.42649999260902405, 0.40790000557899475, 0.32839998602867126, 0.7791000008583069, 0.8525000214576721, 0.41510000824928284, 0.2721000015735626, 0.7443000078201294, 0.38989999890327454, 0.3172999918460846, 1.2502000331878662, 1.250100016593933, 1.250100016593933, 1.250100016593933, 1.25, 1.25, 1.25, 1.249899983406067, 1.249899983406067, 1.249899983406067, 1.2497999668121338, 1.2496999502182007, 1.2496999502182007, 1.2496000528335571, 1.249500036239624, 1.249500036239624, 1.249500036239624, 1.249500036239624, 1.249400019645691, 1.249400019645691, 1.249400019645691, 1.2493000030517578, 1.2493000030517578, 1.2488000392913818, 1.2488000392913818, 1.2487000226974487, 1.2487000226974487, 1.2486000061035156, 1.2486000061035156, 1.2486000061035156, 1.2374999523162842, 1.2330000400543213, 1.2431999444961548, 1.2484999895095825, 1.2480000257492065, 1.2395000457763672, 1.232300043106079, 1.1926000118255615, 1.1806000471115112, 1.1068999767303467, 1.2309999465942383, 1.1442999839782715, 0.714900016784668, 1.1892000436782837, 1.1104999780654907, 1.0525000095367432, 0.3158999979496002, 0.9642999768257141, 0.0357000008225441, 0.8180000185966492, -0.030899999663233757, -0.6331999897956848, 0.23989999294281006, 1.5288000106811523, 1.5288000106811523, 1.5288000106811523, 1.5285999774932861, 1.5285999774932861, 1.528499960899353, 1.528499960899353, 1.52839994430542, 1.5283000469207764, 1.5282000303268433, 1.5282000303268433, 1.5282000303268433, 1.5282000303268433, 1.5282000303268433, 1.5281000137329102, 1.5281000137329102, 1.527999997138977, 1.527999997138977, 1.527999997138977, 1.527999997138977, 1.5276999473571777, 1.5276999473571777, 1.5276999473571777, 1.5276000499725342, 1.527400016784668, 1.527400016784668, 1.5273000001907349, 1.5273000001907349, 1.5271999835968018, 1.5270999670028687, 1.5270999670028687, 1.4767999649047852, 1.4430999755859375, 1.2651000022888184, 1.2811000347137451, 1.434499979019165, 1.0786999464035034, 1.2379000186920166, 0.9164000153541565, 1.1167999505996704, 0.14249999821186066, 0.6992999911308289, -0.17980000376701355, -0.4036000072956085, -0.22429999709129333, 1.5592999458312988, 1.5592999458312988, 1.5592999458312988, 1.5592000484466553, 1.5592000484466553, 1.5591000318527222, 1.5591000318527222, 1.5591000318527222, 1.559000015258789, 1.559000015258789, 1.559000015258789, 1.5587999820709229, 1.5587999820709229, 1.5587999820709229, 1.558500051498413, 1.55840003490448, 1.55840003490448, 1.5583000183105469, 1.5580999851226807, 1.5579999685287476, 1.5578999519348145, 1.5578999519348145, 1.557800054550171, 1.557800054550171, 1.5576000213623047, 1.5576000213623047, 1.5575000047683716, 1.5575000047683716, 1.5573999881744385, 1.5572999715805054, 1.556399941444397, 1.5562000274658203, 1.555999994277954, 1.496999979019165, 1.5032000541687012, 1.50409996509552, 1.3203999996185303, 1.3590999841690063, 1.2457000017166138, 1.2827999591827393, 0.8956000208854675, 0.697700023651123, 0.9657999873161316, 0.2240000069141388, 0.14810000360012054, 0.8425999879837036, -0.3596999943256378, 0.09459999948740005, -0.4846999943256378, -0.6538000106811523], \"logprob\": [30.0, 29.0, 28.0, 27.0, 26.0, 25.0, 24.0, 23.0, 22.0, 21.0, 20.0, 19.0, 18.0, 17.0, 16.0, 15.0, 14.0, 13.0, 12.0, 11.0, 10.0, 9.0, 8.0, 7.0, 6.0, 5.0, 4.0, 3.0, 2.0, 1.0, -2.608799934387207, -3.811000108718872, -4.463099956512451, -4.500500202178955, -4.545100212097168, -4.891600131988525, -5.584799766540527, -3.311000108718872, -5.678199768066406, -3.577199935913086, -5.439000129699707, -5.849400043487549, -5.8653998374938965, -5.898099899291992, -5.894899845123291, -5.955900192260742, -5.94789981842041, -6.179500102996826, -6.105500221252441, -6.134900093078613, -6.135300159454346, -6.206999778747559, -6.26639986038208, -6.286099910736084, -6.45359992980957, -6.47730016708374, -6.531499862670898, -6.565800189971924, -6.600200176239014, -6.381400108337402, -3.865000009536743, -6.052199840545654, -3.8541998863220215, -5.168799877166748, -4.853099822998047, -3.315999984741211, -5.342100143432617, -3.9372000694274902, -5.72730016708374, -3.4660000801086426, -4.399400234222412, -4.692699909210205, -4.948599815368652, -4.536200046539307, -3.8424999713897705, -5.386199951171875, -5.400700092315674, -5.267499923706055, -5.008600234985352, -4.4980998039245605, -4.517199993133545, -4.445899963378906, -5.094799995422363, -5.2017998695373535, -4.769100189208984, -4.7692999839782715, -5.125699996948242, -5.1184000968933105, -5.1596999168396, -2.8831000328063965, -4.112400054931641, -4.1641998291015625, -4.153200149536133, -4.267899990081787, -4.566100120544434, -4.522799968719482, -4.814499855041504, -4.835700035095215, -4.876399993896484, -5.055699825286865, -5.117700099945068, -5.235499858856201, -5.296899795532227, -5.540900230407715, -5.531099796295166, -5.573200225830078, -5.4994001388549805, -5.654399871826172, -5.6595001220703125, -5.646299839019775, -5.738399982452393, -5.816100120544434, -6.149199962615967, -6.228700160980225, -6.249499797821045, -6.178800106048584, -6.318900108337402, -6.337500095367432, -6.34689998626709, -2.953399896621704, -3.4772000312805176, -4.869999885559082, -5.881999969482422, -6.103099822998047, -5.303800106048584, -5.256400108337402, -4.261199951171875, -4.377600193023682, -3.186500072479248, -5.598199844360352, -5.180799961090088, -3.9446001052856445, -5.473700046539307, -5.266600131988525, -5.137400150299072, -3.9323999881744385, -5.241700172424316, -4.889400005340576, -5.31279993057251, -4.95550012588501, -5.000400066375732, -5.237199783325195, -2.6726999282836914, -2.905900001525879, -3.23580002784729, -4.251699924468994, -4.318999767303467, -4.474699974060059, -4.441100120544434, -4.594600200653076, -5.039700031280518, -5.088600158691406, -5.119200229644775, -5.149199962615967, -5.178500175476074, -5.2307000160217285, -5.223700046539307, -5.292200088500977, -5.3846001625061035, -5.412300109863281, -5.399799823760986, -5.457399845123291, -5.757199764251709, -5.746099948883057, -5.801599979400635, -5.8282999992370605, -5.976799964904785, -6.028299808502197, -6.098100185394287, -6.094399929046631, -6.13129997253418, -6.240499973297119, -6.2316999435424805, -4.986199855804443, -5.1992998123168945, -3.6779000759124756, -3.861599922180176, -5.560100078582764, -4.6468000411987305, -5.126800060272217, -5.120699882507324, -5.388299942016602, -4.631899833679199, -5.195400238037109, -5.104300022125244, -5.063199996948242, -5.149400234222412, -3.0689001083374023, -3.186000108718872, -3.2090001106262207, -4.031000137329102, -3.363100051879883, -3.9862000942230225, -4.099999904632568, -4.205100059509277, -4.533599853515625, -4.628799915313721, -4.647799968719482, -4.93209981918335, -4.952000141143799, -4.532599925994873, -5.4045000076293945, -5.441800117492676, -5.519499778747559, -5.562099933624268, -5.7530999183654785, -5.781000137329102, -5.909900188446045, -5.920000076293945, -5.996500015258789, -6.021200180053711, -6.094600200653076, -6.118899822235107, -6.1493000984191895, -6.170100212097168, -5.327099800109863, -6.292300224304199, -3.910399913787842, -5.455399990081787, -5.539299964904785, -4.312699794769287, -5.031599998474121, -5.295100212097168, -4.532299995422363, -5.042500019073486, -4.769000053405762, -5.051499843597412, -4.1875, -4.343599796295166, -4.928899765014648, -4.4355998039245605, -4.626299858093262, -5.040599822998047, -4.608099937438965, -4.848400115966797, -4.851900100708008, -4.947199821472168]}, \"token.table\": {\"Topic\": [1, 2, 3, 4, 1, 2, 3, 4, 1, 2, 3, 4, 1, 1, 4, 4, 1, 2, 3, 4, 2, 4, 1, 2, 3, 4, 2, 4, 3, 1, 2, 3, 1, 3, 3, 2, 1, 1, 1, 2, 4, 3, 2, 3, 2, 2, 3, 2, 1, 3, 1, 3, 4, 3, 3, 1, 1, 2, 2, 2, 1, 2, 3, 4, 4, 3, 1, 3, 1, 1, 2, 3, 4, 1, 2, 3, 4, 3, 4, 1, 2, 3, 4, 3, 1, 2, 3, 4, 3, 1, 2, 3, 4, 1, 2, 3, 2, 3, 1, 2, 3, 4, 1, 2, 3, 4, 2, 2, 1, 2, 3, 4, 1, 4, 1, 2, 3, 4, 1, 3, 1, 1, 4, 1, 2, 3, 4, 3, 1, 2, 3, 4, 4, 4, 4, 2, 2, 1, 2, 3, 4, 1, 2, 3, 1, 2, 3, 4, 1, 2, 3, 4, 1, 1, 4, 3, 4, 2, 2, 3, 1, 2, 3, 4, 3, 3, 4, 2, 3, 1, 2, 3, 4, 1, 2, 3, 4, 1, 2, 3, 4, 4, 2, 2, 1, 1, 2, 3, 4, 4, 1, 2, 4, 1, 2, 3, 4, 1, 2, 4, 1, 3, 3, 1, 2, 3, 4, 3, 4, 3, 3, 1, 1, 2, 3, 4, 2, 4, 4, 1, 1, 2, 3, 1, 2, 3, 4, 2, 1, 2, 3, 4, 1, 2, 3, 4, 1, 2, 3, 4, 4, 3, 3, 3, 1, 2, 3, 4, 2, 4, 2, 1, 2, 3, 4, 1, 2, 3, 4, 1, 2, 3, 4, 1, 1, 2, 3, 4, 2, 4, 1, 2, 3, 4, 4, 4, 1, 1, 2, 3, 4, 4, 1, 2, 3, 4, 1, 3, 4, 4, 2, 2, 2, 2, 1, 3, 4, 3, 4, 1, 2, 3, 4, 3, 1, 4, 1, 2, 3, 4, 1, 2, 3, 4, 4, 3, 1, 2, 3, 1, 2, 3, 4, 2, 1, 1, 2, 2, 2, 4, 3, 1, 2, 3, 4, 1, 2, 4, 3, 1, 2, 3, 4, 1, 2, 3, 4, 2, 1, 2, 3, 4, 1, 2, 3, 4, 1, 2, 3, 4, 2, 1], \"Freq\": [0.791618824005127, 0.009491831995546818, 0.11769872158765793, 0.07973138988018036, 0.017552174627780914, 0.8986713290214539, 0.0614326111972332, 0.021062608808279037, 0.006769852247089148, 0.4603499472141266, 0.044004037976264954, 0.4885576665401459, 0.9977752566337585, 0.9981841444969177, 0.9992771744728088, 0.9998379349708557, 0.01656920649111271, 0.8664314150810242, 0.007594219874590635, 0.10931073874235153, 1.0001603364944458, 0.9985905289649963, 0.012917443178594112, 0.9827730059623718, 0.0006982401828281581, 0.003491200739517808, 0.9999245405197144, 0.9999592304229736, 1.0013116598129272, 0.002014721743762493, 0.048353325575590134, 0.9489339590072632, 0.25017109513282776, 0.7468611001968384, 0.9991148710250854, 1.0001951456069946, 0.9996092915534973, 1.0001237392425537, 1.0007573366165161, 0.05076032504439354, 0.9475260376930237, 0.9997269511222839, 0.999638557434082, 0.9974134564399719, 0.9972038269042969, 0.08913174271583557, 0.9084581732749939, 1.00013267993927, 0.9487735629081726, 0.051112379878759384, 0.997047483921051, 1.0005067586898804, 0.999890923500061, 0.9995805621147156, 0.9999508261680603, 1.0001848936080933, 0.9998992085456848, 0.999223530292511, 0.9975078701972961, 0.9997982382774353, 0.001048353617079556, 0.05975615978240967, 0.001048353617079556, 0.9393248558044434, 0.998016893863678, 0.9986356496810913, 0.9955809712409973, 0.9965800046920776, 0.9995887875556946, 0.9166089296340942, 0.029432397335767746, 0.04625090956687927, 0.008409256115555763, 0.006637648679316044, 0.5854405760765076, 0.14470073580741882, 0.26318275928497314, 0.9998996257781982, 0.9999992251396179, 0.6487224102020264, 0.031207730993628502, 0.10291910916566849, 0.21712613105773926, 0.9988502860069275, 0.7794963121414185, 0.09672582149505615, 0.03982827812433243, 0.0815531462430954, 0.9993475079536438, 0.6342194080352783, 0.0010414111893624067, 0.0010414111893624067, 0.3634524941444397, 0.06602928787469864, 0.9325617551803589, 0.0008151763468049467, 0.9399757981300354, 0.05659540370106697, 0.1596948653459549, 0.08194868266582489, 0.6618931889533997, 0.0966574177145958, 0.002700108801946044, 0.9872013330459595, 0.00976193230599165, 0.0002077006793115288, 0.9988794326782227, 0.9987900257110596, 0.91117262840271, 0.0012797368690371513, 0.0012797368690371513, 0.08702210336923599, 0.9967426657676697, 0.9997380971908569, 0.9257382750511169, 0.04360361397266388, 0.0023958031088113785, 0.028270475566387177, 0.9997183680534363, 0.9987362623214722, 0.9988700747489929, 0.999954104423523, 0.9973657131195068, 0.7265788912773132, 0.14222395420074463, 0.06647423654794693, 0.0649283230304718, 1.0002275705337524, 0.0007440190529450774, 0.0007440190529450774, 0.0022320570424199104, 0.9969854950904846, 1.0006303787231445, 0.998945951461792, 0.9992749691009521, 0.9976105690002441, 1.0006322860717773, 0.11039013415575027, 0.8202600479125977, 0.04139630123972893, 0.029130730777978897, 0.6720659136772156, 0.0013387766666710377, 0.32666149735450745, 0.21389731764793396, 0.6489182114601135, 0.13296319544315338, 0.004335756413638592, 0.7520205974578857, 0.012608728371560574, 0.002701870398595929, 0.23326148092746735, 0.9995601177215576, 0.9989100098609924, 0.0007840737816877663, 0.9998879432678223, 0.9960099458694458, 0.9978553652763367, 0.9971843957901001, 1.0005333423614502, 0.0004406536172609776, 0.0004406536172609776, 0.768059253692627, 0.23090249300003052, 0.9985612630844116, 0.9971415996551514, 0.9991011619567871, 0.982124924659729, 0.017434170469641685, 0.3342500925064087, 0.06974510103464127, 0.542169451713562, 0.053953755646944046, 0.42343851923942566, 0.28074130415916443, 0.21016821265220642, 0.08608365803956985, 0.43409255146980286, 0.2506968677043915, 0.10039091110229492, 0.21480290591716766, 0.9994471669197083, 0.9984272718429565, 0.999889612197876, 0.9984222054481506, 0.7397281527519226, 0.25724703073501587, 0.0022866404615342617, 0.0011433202307671309, 0.9966481924057007, 0.9964078664779663, 0.9999300241470337, 0.9998093247413635, 0.4306681156158447, 0.2969229519367218, 0.17313291132450104, 0.09911859035491943, 0.9967507719993591, 0.9999105930328369, 0.9996652603149414, 0.9999982118606567, 0.9986312985420227, 1.0011557340621948, 0.07790786772966385, 0.7510318756103516, 0.15114127099514008, 0.018697889521718025, 0.9981662631034851, 0.9960571527481079, 0.9988346099853516, 0.9995098114013672, 0.9955360293388367, 0.7963441014289856, 0.004977150354534388, 0.1969529539346695, 0.0014220429584383965, 0.9987375736236572, 0.9995442032814026, 0.9966701865196228, 0.9981058835983276, 0.9992194771766663, 0.000600853527430445, 0.0003004267637152225, 0.0007344401092268527, 0.9437555074691772, 0.0007344401092268527, 0.055083006620407104, 0.9971150159835815, 0.7055823802947998, 0.15211643278598785, 0.01288282498717308, 0.12957148253917694, 0.8224288821220398, 0.09394926577806473, 0.051199864596128464, 0.03255913779139519, 0.39386793971061707, 0.3638016879558563, 0.017288096249103546, 0.22549691796302795, 1.000231146812439, 1.0000032186508179, 0.9996315240859985, 1.000075101852417, 0.7980391383171082, 0.1319592297077179, 0.04129336401820183, 0.02917465940117836, 0.9993942975997925, 0.999026358127594, 0.9991162419319153, 0.0035430199932307005, 0.13109174370765686, 0.10806211084127426, 0.758206307888031, 0.002183282980695367, 0.9890271425247192, 0.002183282980695367, 0.006549848709255457, 0.9385850429534912, 0.01627604104578495, 0.001808449043892324, 0.0434027761220932, 0.9957978129386902, 0.20822224020957947, 0.01022279728204012, 0.7806988954544067, 0.0010760839795693755, 0.9818342328071594, 0.016536155715584755, 0.3763048052787781, 0.18961094319820404, 0.011668366380035877, 0.4224920868873596, 0.9986441731452942, 0.9962908625602722, 1.001250982284546, 0.3604230284690857, 0.0009636979084461927, 0.6379680037498474, 0.0009636979084461927, 0.9998309016227722, 0.0010944290552288294, 0.21122480928897858, 0.0010944290552288294, 0.7868945002555847, 0.9993926286697388, 0.9994340538978577, 0.9995962381362915, 1.0000410079956055, 1.0000851154327393, 0.9992087483406067, 1.000087857246399, 1.000726342201233, 0.9998571276664734, 0.0037915336433798075, 0.9971733689308167, 0.054116226732730865, 0.9459516406059265, 0.1705278903245926, 0.0037895087152719498, 0.005684263072907925, 0.8185338973999023, 0.9951827526092529, 0.9985910058021545, 0.9996322393417358, 0.25648292899131775, 0.1444617360830307, 0.08414262533187866, 0.5149933695793152, 0.3979419767856598, 0.10832658410072327, 0.2497839778661728, 0.24382786452770233, 0.9975596070289612, 0.9981167912483215, 0.0024107727222144604, 0.07955549657344818, 0.9185043573379517, 0.0034239389933645725, 0.007989190518856049, 0.4359815716743469, 0.5523954629898071, 0.9999205470085144, 0.9989880323410034, 0.005679817404597998, 0.9925481081008911, 0.9989991784095764, 0.2676699459552765, 0.7309448719024658, 1.0001245737075806, 0.43908533453941345, 0.2777268886566162, 0.18125788867473602, 0.10209275037050247, 0.9981268644332886, 0.9998545050621033, 0.9994918704032898, 0.9987136125564575, 0.6248898506164551, 0.0022357420530170202, 0.2783498764038086, 0.09501903504133224, 0.0018489515641704202, 0.8690072298049927, 0.033281128853559494, 0.09614548087120056, 1.0003416538238525, 0.43009185791015625, 0.3929125666618347, 0.030359426513314247, 0.1467372179031372, 0.6035406589508057, 0.28729426860809326, 0.09242412447929382, 0.01781669817864895, 0.9898363947868347, 0.0005179677391424775, 0.009323420003056526, 0.0005179677391424775, 0.9990057945251465, 1.000144600868225], \"Term\": [\"absolutely\", \"absolutely\", \"absolutely\", \"absolutely\", \"access\", \"access\", \"access\", \"access\", \"add\", \"add\", \"add\", \"add\", \"adult\", \"age\", \"alarm\", \"alexa\", \"amazon\", \"amazon\", \"amazon\", \"amazon\", \"android\", \"answer\", \"app\", \"app\", \"app\", \"app\", \"apple\", \"ask\", \"backlight\", \"battery\", \"battery\", \"battery\", \"battery_life\", \"battery_life\", \"bed\", \"bedroom\", \"beginner\", \"birthday\", \"black_friday\", \"bluetooth\", \"bluetooth\", \"book\", \"box\", \"bright\", \"buffer\", \"button\", \"button\", \"cable\", \"camera\", \"camera\", \"cant_beat\", \"carry\", \"channel\", \"charge\", \"charger\", \"child\", \"christma\", \"command\", \"connection\", \"content\", \"control\", \"control\", \"control\", \"control\", \"cool\", \"cover\", \"dad\", \"dark\", \"daughter\", \"deal\", \"deal\", \"deal\", \"deal\", \"device\", \"device\", \"device\", \"device\", \"dot\", \"echo\", \"enjoy\", \"enjoy\", \"enjoy\", \"enjoy\", \"ereader\", \"expect\", \"expect\", \"expect\", \"expect\", \"eye\", \"family\", \"family\", \"family\", \"family\", \"fast\", \"fast\", \"fast\", \"faster\", \"faster\", \"feel\", \"feel\", \"feel\", \"feel\", \"fire\", \"fire\", \"fire\", \"fire\", \"firestick\", \"firetv\", \"friend\", \"friend\", \"friend\", \"friend\", \"friendly\", \"fun\", \"game\", \"game\", \"game\", \"game\", \"gift\", \"glare\", \"granddaughter\", \"grandson\", \"hear\", \"highly\", \"highly\", \"highly\", \"highly\", \"hold\", \"home\", \"home\", \"home\", \"home\", \"home_automation\", \"house\", \"information\", \"install\", \"interface\", \"internet\", \"internet\", \"internet\", \"internet\", \"ipad\", \"ipad\", \"ipad\", \"issue\", \"issue\", \"issue\", \"issue\", \"item\", \"item\", \"item\", \"item\", \"joke\", \"kid\", \"kid\", \"kindle\", \"kitchen\", \"kodi\", \"lag\", \"library\", \"light\", \"light\", \"light\", \"light\", \"lighting\", \"lightweight\", \"listen\", \"load\", \"load\", \"long\", \"long\", \"long\", \"long\", \"look\", \"look\", \"look\", \"look\", \"lot\", \"lot\", \"lot\", \"lot\", \"loud\", \"medium\", \"memory\", \"mom\", \"money\", \"money\", \"money\", \"money\", \"morning\", \"mother\", \"movie\", \"music\", \"need\", \"need\", \"need\", \"need\", \"nephew\", \"netflix\", \"news\", \"niece\", \"night\", \"nook\", \"option\", \"option\", \"option\", \"option\", \"page\", \"pandora\", \"paper_white\", \"paperwhite\", \"parent\", \"perfect\", \"perfect\", \"perfect\", \"perfect\", \"picture\", \"play\", \"playing\", \"present\", \"price\", \"price\", \"price\", \"prime\", \"prime\", \"prime\", \"prime\", \"processor\", \"product\", \"product\", \"product\", \"product\", \"purchase\", \"purchase\", \"purchase\", \"purchase\", \"quality\", \"quality\", \"quality\", \"quality\", \"question\", \"read\", \"reader\", \"reading\", \"recommend\", \"recommend\", \"recommend\", \"recommend\", \"remote\", \"request\", \"roku\", \"room\", \"room\", \"room\", \"room\", \"run\", \"run\", \"run\", \"run\", \"sale\", \"sale\", \"sale\", \"sale\", \"school\", \"screen\", \"screen\", \"screen\", \"screen\", \"service\", \"service\", \"set\", \"set\", \"set\", \"set\", \"shopping_list\", \"siri\", \"sister\", \"size\", \"size\", \"size\", \"size\", \"skill\", \"smart\", \"smart\", \"smart\", \"smart\", \"son\", \"song\", \"sound\", \"speaker\", \"stick\", \"stream\", \"streaming\", \"support\", \"tablet\", \"talk\", \"talk\", \"tap\", \"tap\", \"tell\", \"tell\", \"tell\", \"tell\", \"text\", \"thank\", \"thermostat\", \"thing\", \"thing\", \"thing\", \"thing\", \"time\", \"time\", \"time\", \"time\", \"timer\", \"touch\", \"travel\", \"travel\", \"travel\", \"turn\", \"turn\", \"turn\", \"turn\", \"tv\", \"value\", \"video\", \"video\", \"view\", \"voice\", \"voice\", \"voyage\", \"want\", \"want\", \"want\", \"want\", \"warranty\", \"watch\", \"weather\", \"weight\", \"wife\", \"wife\", \"wife\", \"wife\", \"wifi\", \"wifi\", \"wifi\", \"wifi\", \"wireless\", \"work\", \"work\", \"work\", \"work\", \"worth\", \"worth\", \"worth\", \"worth\", \"year\", \"year\", \"year\", \"year\", \"youtube\", \"yr\"]}, \"R\": 30, \"lambda.step\": 0.01, \"plot.opts\": {\"xlab\": \"PC1\", \"ylab\": \"PC2\"}, \"topic.order\": [1, 2, 3, 4]};\n",
       "\n",
       "function LDAvis_load_lib(url, callback){\n",
       "  var s = document.createElement('script');\n",
       "  s.src = url;\n",
       "  s.async = true;\n",
       "  s.onreadystatechange = s.onload = callback;\n",
       "  s.onerror = function(){console.warn(\"failed to load library \" + url);};\n",
       "  document.getElementsByTagName(\"head\")[0].appendChild(s);\n",
       "}\n",
       "\n",
       "if(typeof(LDAvis) !== \"undefined\"){\n",
       "   // already loaded: just create the visualization\n",
       "   !function(LDAvis){\n",
       "       new LDAvis(\"#\" + \"ldavis_el1598417633082136164167352030\", ldavis_el1598417633082136164167352030_data);\n",
       "   }(LDAvis);\n",
       "}else if(typeof define === \"function\" && define.amd){\n",
       "   // require.js is available: use it to load d3/LDAvis\n",
       "   require.config({paths: {d3: \"https://cdnjs.cloudflare.com/ajax/libs/d3/3.5.5/d3.min\"}});\n",
       "   require([\"d3\"], function(d3){\n",
       "      window.d3 = d3;\n",
       "      LDAvis_load_lib(\"https://cdn.rawgit.com/bmabey/pyLDAvis/files/ldavis.v1.0.0.js\", function(){\n",
       "        new LDAvis(\"#\" + \"ldavis_el1598417633082136164167352030\", ldavis_el1598417633082136164167352030_data);\n",
       "      });\n",
       "    });\n",
       "}else{\n",
       "    // require.js not available: dynamically load d3 & LDAvis\n",
       "    LDAvis_load_lib(\"https://cdnjs.cloudflare.com/ajax/libs/d3/3.5.5/d3.min.js\", function(){\n",
       "         LDAvis_load_lib(\"https://cdn.rawgit.com/bmabey/pyLDAvis/files/ldavis.v1.0.0.js\", function(){\n",
       "                 new LDAvis(\"#\" + \"ldavis_el1598417633082136164167352030\", ldavis_el1598417633082136164167352030_data);\n",
       "            })\n",
       "         });\n",
       "}\n",
       "</script>"
      ],
      "text/plain": [
       "PreparedData(topic_coordinates=              x         y  topics  cluster       Freq\n",
       "topic                                                \n",
       "0      0.068293  0.047345       1        1  28.655764\n",
       "1     -0.025283 -0.282658       2        1  28.641150\n",
       "2      0.218472  0.106573       3        1  21.677958\n",
       "3     -0.261482  0.128740       4        1  21.025137, topic_info=     Category         Freq             Term        Total  loglift  logprob\n",
       "16    Default  6712.000000           tablet  6712.000000  30.0000  30.0000\n",
       "104   Default  4763.000000           kindle  4763.000000  29.0000  29.0000\n",
       "299   Default  5099.000000               tv  5099.000000  28.0000  28.0000\n",
       "91    Default  3772.000000             read  3772.000000  27.0000  27.0000\n",
       "30    Default  4814.000000             fire  4814.000000  26.0000  26.0000\n",
       "734   Default  3109.000000             echo  3109.000000  25.0000  25.0000\n",
       "604   Default  2765.000000            alexa  2765.000000  24.0000  24.0000\n",
       "138   Default  2702.000000            music  2702.000000  23.0000  23.0000\n",
       "98    Default  2712.000000             book  2712.000000  22.0000  22.0000\n",
       "69    Default  3328.000000            price  3328.000000  21.0000  21.0000\n",
       "117   Default  2317.000000             play  2317.000000  20.0000  20.0000\n",
       "127   Default  2864.000000              app  2864.000000  19.0000  19.0000\n",
       "56    Default  4345.000000           amazon  4345.000000  18.0000  18.0000\n",
       "254   Default  2550.000000              kid  2550.000000  17.0000  17.0000\n",
       "10    Default  2017.000000             gift  2017.000000  16.0000  16.0000\n",
       "86    Default  4023.000000         purchase  4023.000000  15.0000  15.0000\n",
       "190   Default  1930.000000             year  1930.000000  14.0000  14.0000\n",
       "89    Default  2269.000000            light  2269.000000  13.0000  13.0000\n",
       "157   Default  1344.000000             home  1344.000000  12.0000  12.0000\n",
       "295   Default  1242.000000            sound  1242.000000  11.0000  11.0000\n",
       "116   Default  2086.000000             game  2086.000000  10.0000  10.0000\n",
       "1068  Default  1491.000000            stick  1491.000000   9.0000   9.0000\n",
       "693   Default  1188.000000              ask  1188.000000   8.0000   8.0000\n",
       "47    Default  1858.000000           screen  1858.000000   7.0000   7.0000\n",
       "53    Default  1432.000000            watch  1432.000000   6.0000   6.0000\n",
       "473   Default  1416.000000              box  1416.000000   5.0000   5.0000\n",
       "296   Default  1108.000000          speaker  1108.000000   4.0000   4.0000\n",
       "43    Default  1277.000000            movie  1277.000000   3.0000   3.0000\n",
       "7     Default  4036.000000          product  4036.000000   2.0000   2.0000\n",
       "129   Default   998.000000              fun   998.000000   1.0000   1.0000\n",
       "...       ...          ...              ...          ...      ...      ...\n",
       "2013   Topic4   181.446091          kitchen   181.725098   1.5579  -5.9099\n",
       "4932   Topic4   179.608887  home_automation   179.886612   1.5579  -5.9200\n",
       "3289   Topic4   166.380692          pandora   166.657104   1.5578  -5.9965\n",
       "7823   Topic4   162.329575             siri   162.603119   1.5578  -6.0212\n",
       "2208   Topic4   150.835571            alarm   151.109222   1.5576  -6.0946\n",
       "810    Topic4   147.218124          morning   147.494370   1.5576  -6.1189\n",
       "1107   Topic4   142.803635             loud   143.079102   1.5575  -6.1493\n",
       "707    Topic4   139.863998          request   140.136444   1.5575  -6.1701\n",
       "788    Topic4   324.970245             cool   325.645782   1.5574  -5.3271\n",
       "7811   Topic4   123.776649       thermostat   124.045616   1.5573  -6.2923\n",
       "157    Topic4  1339.986572             home  1344.051636   1.5564  -3.9104\n",
       "1138   Topic4   285.835754             hear   286.755402   1.5562  -5.4554\n",
       "829    Topic4   262.843964             talk   263.745514   1.5560  -5.5393\n",
       "3      Topic4   896.120789          control   953.876587   1.4970  -4.3127\n",
       "1376   Topic4   436.700592              tap   461.968658   1.5032  -5.0316\n",
       "434    Topic4   335.518066        bluetooth   354.607666   1.5041  -5.2951\n",
       "858    Topic4   719.471008            smart   913.718445   1.3204  -4.5323\n",
       "712    Topic4   431.942352             tell   527.772888   1.3591  -5.0425\n",
       "768    Topic4   567.827026            voice   777.076416   1.2457  -4.7690\n",
       "1443   Topic4   428.075104             room   564.490173   1.2828  -5.0515\n",
       "173    Topic4  1015.707947            thing  1972.840820   0.8956  -4.1875\n",
       "71     Topic4   868.888245              set  2056.843262   0.6977  -4.3436\n",
       "767    Topic4   483.905243             turn   876.183838   0.9658  -4.9289\n",
       "101    Topic4   792.529053           device  3013.115234   0.2240  -4.4356\n",
       "109    Topic4   654.935791             time  2686.321289   0.1481  -4.6263\n",
       "508    Topic4   432.766846              add   886.282288   0.8426  -5.0406\n",
       "196    Topic4   666.944275             work  4545.540527  -0.3597  -4.6081\n",
       "89     Topic4   524.480469            light  2269.356201   0.0946  -4.8484\n",
       "7      Topic4   522.663269          product  4036.381836  -0.4847  -4.8519\n",
       "56     Topic4   475.135590           amazon  4345.410156  -0.6538  -4.9472\n",
       "\n",
       "[237 rows x 6 columns], token_table=      Topic      Freq        Term\n",
       "term                             \n",
       "588       1  0.791619  absolutely\n",
       "588       2  0.009492  absolutely\n",
       "588       3  0.117699  absolutely\n",
       "588       4  0.079731  absolutely\n",
       "18        1  0.017552      access\n",
       "18        2  0.898671      access\n",
       "18        3  0.061433      access\n",
       "18        4  0.021063      access\n",
       "508       1  0.006770         add\n",
       "508       2  0.460350         add\n",
       "508       3  0.044004         add\n",
       "508       4  0.488558         add\n",
       "478       1  0.997775       adult\n",
       "55        1  0.998184         age\n",
       "2208      4  0.999277       alarm\n",
       "604       4  0.999838       alexa\n",
       "56        1  0.016569      amazon\n",
       "56        2  0.866431      amazon\n",
       "56        3  0.007594      amazon\n",
       "56        4  0.109311      amazon\n",
       "335       2  1.000160     android\n",
       "1023      4  0.998591      answer\n",
       "127       1  0.012917         app\n",
       "127       2  0.982773         app\n",
       "127       3  0.000698         app\n",
       "127       4  0.003491         app\n",
       "515       2  0.999925       apple\n",
       "693       4  0.999959         ask\n",
       "1309      3  1.001312   backlight\n",
       "536       1  0.002015     battery\n",
       "...     ...       ...         ...\n",
       "118       2  0.277727        want\n",
       "118       3  0.181258        want\n",
       "118       4  0.102093        want\n",
       "1302      1  0.998127    warranty\n",
       "53        2  0.999855       watch\n",
       "2444      4  0.999492     weather\n",
       "92        3  0.998714      weight\n",
       "221       1  0.624890        wife\n",
       "221       2  0.002236        wife\n",
       "221       3  0.278350        wife\n",
       "221       4  0.095019        wife\n",
       "283       1  0.001849        wifi\n",
       "283       2  0.869007        wifi\n",
       "283       3  0.033281        wifi\n",
       "283       4  0.096145        wifi\n",
       "1637      2  1.000342    wireless\n",
       "196       1  0.430092        work\n",
       "196       2  0.392913        work\n",
       "196       3  0.030359        work\n",
       "196       4  0.146737        work\n",
       "93        1  0.603541       worth\n",
       "93        2  0.287294       worth\n",
       "93        3  0.092424       worth\n",
       "93        4  0.017817       worth\n",
       "190       1  0.989836        year\n",
       "190       2  0.000518        year\n",
       "190       3  0.009323        year\n",
       "190       4  0.000518        year\n",
       "628       2  0.999006     youtube\n",
       "142       1  1.000145          yr\n",
       "\n",
       "[362 rows x 3 columns], R=30, lambda_step=0.01, plot_opts={'xlab': 'PC1', 'ylab': 'PC2'}, topic_order=[1, 2, 3, 4])"
      ]
     },
     "execution_count": 68,
     "metadata": {},
     "output_type": "execute_result"
    }
   ],
   "source": [
    "# Visualize the topics\n",
    "pyLDAvis.enable_notebook()\n",
    "vis = pyLDAvis.gensim.prepare(optimal_model, corpus, id2word)\n",
    "vis"
   ]
  },
  {
   "cell_type": "code",
   "execution_count": 69,
   "metadata": {},
   "outputs": [],
   "source": [
    "# Keep Machine Learning :D"
   ]
  },
  {
   "cell_type": "code",
   "execution_count": null,
   "metadata": {},
   "outputs": [],
   "source": []
  }
 ],
 "metadata": {
  "kernelspec": {
   "display_name": "Python 3",
   "language": "python",
   "name": "python3"
  },
  "language_info": {
   "codemirror_mode": {
    "name": "ipython",
    "version": 3
   },
   "file_extension": ".py",
   "mimetype": "text/x-python",
   "name": "python",
   "nbconvert_exporter": "python",
   "pygments_lexer": "ipython3",
   "version": "3.7.3"
  }
 },
 "nbformat": 4,
 "nbformat_minor": 2
}
